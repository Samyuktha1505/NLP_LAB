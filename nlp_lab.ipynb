{
  "nbformat": 4,
  "nbformat_minor": 0,
  "metadata": {
    "colab": {
      "provenance": [],
      "authorship_tag": "ABX9TyMG2mGhhV0vHINJuSM+XYZP",
      "include_colab_link": true
    },
    "kernelspec": {
      "name": "python3",
      "display_name": "Python 3"
    },
    "language_info": {
      "name": "python"
    }
  },
  "cells": [
    {
      "cell_type": "markdown",
      "metadata": {
        "id": "view-in-github",
        "colab_type": "text"
      },
      "source": [
        "<a href=\"https://colab.research.google.com/github/Samyuktha1505/NLP_LAB/blob/main/nlp_lab.ipynb\" target=\"_parent\"><img src=\"https://colab.research.google.com/assets/colab-badge.svg\" alt=\"Open In Colab\"/></a>"
      ]
    },
    {
      "cell_type": "code",
      "source": [
        "from datasets import load_dataset\n",
        "\n",
        "dataset = load_dataset(\"ai4bharat/IndicCorpV2\", name=\"indiccorp_v2\", split=\"tel_Telu\",streaming=True)"
      ],
      "metadata": {
        "id": "2EmKMuXthwIP"
      },
      "execution_count": null,
      "outputs": []
    },
    {
      "cell_type": "markdown",
      "source": [],
      "metadata": {
        "id": "OOMrWpWAl5Hh"
      }
    },
    {
      "cell_type": "code",
      "source": [
        "import re\n",
        "pattern = re.compile(\n",
        "    r'(?<=[.!?])\\s+'\n",
        ")\n",
        "# telugu_words=[]\n",
        "num=1\n",
        "total=0\n",
        "for i in dataset:\n",
        "  if i['text'].strip():\n",
        "  #   num+=1\n",
        "  # if(num==5):\n",
        "    print('\\n')\n",
        "    telugu_words += pattern.split(i['text'])\n",
        "    break\n",
        "total=len(telugu_words)\n",
        "print(telugu_words)\n",
        "print(total)"
      ],
      "metadata": {
        "id": "aTy83udXlHvW",
        "colab": {
          "base_uri": "https://localhost:8080/"
        },
        "outputId": "974e0de3-04ee-4c39-dc79-bee87c199021"
      },
      "execution_count": null,
      "outputs": [
        {
          "output_type": "stream",
          "name": "stdout",
          "text": [
            "\n",
            "\n",
            "['అమెరికా అధ్యక్షుడు డొనాల్డ్ ట్రంప్ కు రాష్ట్రపతి  భవన్ వద్ద ఘనస్వాగతం లభించింది.', 'ఆయనకు రాష్ట్రపతి రామ్ నాథ్ కోవింద్ దంపతులు, ప్రధాని మోదీ సాదరంగా ఆహ్వానం పలకడంతో పాటు సైనికులు గౌరవ వందనాన్ని అందించారు.', 'అమెరికా అధ్యక్షుడు డొనాల్డ్ ట్రంప్ కు రాష్ట్రపతి  భవన్ వద్ద ఘనస్వాగతం లభించింది.', 'ఆయనకు రాష్ట్రపతి రామ్ నాథ్ కోవింద్ దంపతులు, ప్రధాని మోదీ సాదరంగా ఆహ్వానం పలకడంతో పాటు సైనికులు గౌరవ వందనాన్ని అందించారు.', 'అమెరికా అధ్యక్షుడు డొనాల్డ్ ట్రంప్ కు రాష్ట్రపతి  భవన్ వద్ద ఘనస్వాగతం లభించింది.', 'ఆయనకు రాష్ట్రపతి రామ్ నాథ్ కోవింద్ దంపతులు, ప్రధాని మోదీ సాదరంగా ఆహ్వానం పలకడంతో పాటు సైనికులు గౌరవ వందనాన్ని అందించారు.']\n",
            "6\n"
          ]
        }
      ]
    },
    {
      "cell_type": "code",
      "source": [
        "import re\n",
        "pattern = re.compile(\n",
        "    r'https?://\\S+|[a-zA-Z0-9._%+-]+@[a-zA-Z0-9.-]+\\.[a-zA-Z]{2,}' # URLs\n",
        "    r'\\b[\\w\\.-]+@[\\w\\.-]+\\.\\w{2,4}\\b|'   # email addresses\n",
        "    r'\\d{1,2}[/-]\\d{1,2}[/-]\\d{2,4}|'    # dates like 12/05/2020\n",
        "    r'\\d+\\.\\d+|\\d+|'                     # numbers including decimals\n",
        "    r'[\\u0C00-\\u0C7F]+|'                 # Telugu words\n",
        "    r'[^\\s\\w\\u0C00-\\u0C7F]'              # punctuation\n",
        ")\n",
        "\n",
        "num=1\n",
        "\n",
        "for i in dataset:\n",
        "  if i['text'].strip():\n",
        "    num+=1\n",
        "  if(num==5):\n",
        "    print(i['text'])\n",
        "    print('\\n')\n",
        "    telugu_words = pattern.findall(i['text'])\n",
        "    break\n",
        "\n",
        "print(telugu_words)"
      ],
      "metadata": {
        "colab": {
          "base_uri": "https://localhost:8080/"
        },
        "id": "9TTLaqWuYZY3",
        "outputId": "b5d4c25b-f4fa-4acd-e074-47b61f23943b"
      },
      "execution_count": null,
      "outputs": [
        {
          "output_type": "stream",
          "name": "stdout",
          "text": [
            "మనలో చాలా మంది విద్యుత్ పొదుపు చేయాలి అని విన్నాను. ఎందుకు? అందంగా చాలా సంస్కరణలు. కొన్ని నమ్మకం శక్తి సేవ్ లేకపోతే, దీన్ని చెయ్యవచ్చు చౌక కాదు. ఎవరైనా అది కూడా విద్యుత్ మూలం ఆదా చెప్పారు. కానీ ఎవరూ అది శక్తి సేవ్ అవసరం ఎందుకు అనే ప్రశ్న పై చాలా ప్రత్యేకంగా చెప్పగలను. , సాధారణ హక్కుకు మరియు ఆ మరియు ఇతరులు. ఇంధన వనరుల పొదుపు ప్రయోజనం కోసం విద్యుత్ సేవ్ మొదటి విషయం. అలాగే, పని తొలగించబడుతుంది పవర్ స్టేషన్ చాలా హానికరమైన వాయువులు ఉంది. ఈ సేకరించిన పదార్థాలు హానికరం ప్రజలకు కానీ కూడా పర్యావరణం కోసం మాత్రమే కాదు.\n",
            "\n",
            "\n",
            "['మనలో', 'చాలా', 'మంది', 'విద్యుత్', 'పొదుపు', 'చేయాలి', 'అని', 'విన్నాను', '.', 'ఎందుకు', '?', 'అందంగా', 'చాలా', 'సంస్కరణలు', '.', 'కొన్ని', 'నమ్మకం', 'శక్తి', 'సేవ్', 'లేకపోతే', ',', 'దీన్ని', 'చెయ్యవచ్చు', 'చౌక', 'కాదు', '.', 'ఎవరైనా', 'అది', 'కూడా', 'విద్యుత్', 'మూలం', 'ఆదా', 'చెప్పారు', '.', 'కానీ', 'ఎవరూ', 'అది', 'శక్తి', 'సేవ్', 'అవసరం', 'ఎందుకు', 'అనే', 'ప్రశ్న', 'పై', 'చాలా', 'ప్రత్యేకంగా', 'చెప్పగలను', '.', ',', 'సాధారణ', 'హక్కుకు', 'మరియు', 'ఆ', 'మరియు', 'ఇతరులు', '.', 'ఇంధన', 'వనరుల', 'పొదుపు', 'ప్రయోజనం', 'కోసం', 'విద్యుత్', 'సేవ్', 'మొదటి', 'విషయం', '.', 'అలాగే', ',', 'పని', 'తొలగించబడుతుంది', 'పవర్', 'స్టేషన్', 'చాలా', 'హానికరమైన', 'వాయువులు', 'ఉంది', '.', 'ఈ', 'సేకరించిన', 'పదార్థాలు', 'హానికరం', 'ప్రజలకు', 'కానీ', 'కూడా', 'పర్యావరణం', 'కోసం', 'మాత్రమే', 'కాదు', '.']\n"
          ]
        }
      ]
    },
    {
      "cell_type": "code",
      "source": [
        "import re\n",
        "pattern = re.compile(r'[\\u0C00-\\u0C7F]+')\n",
        "num=1\n",
        "\n",
        "for i in dataset:\n",
        "  if(num>5):\n",
        "    break\n",
        "  telugu_words = pattern.findall(i['text'])\n",
        "  num+=1\n",
        "  break\n",
        "print(\"total no.of words\",len(telugu_words))\n",
        "print(telugu_words)\n",
        "final=len(telugu_words)\n",
        "result=final/total\n",
        "print(\"average number of words per sentence\",result)"
      ],
      "metadata": {
        "colab": {
          "base_uri": "https://localhost:8080/"
        },
        "id": "ZECH3mUIZBz2",
        "outputId": "b83852f4-30d8-4298-d0ea-86b7cb0e313c"
      },
      "execution_count": null,
      "outputs": [
        {
          "output_type": "stream",
          "name": "stdout",
          "text": [
            "total no.of words 26\n",
            "['అమెరికా', 'అధ్యక్షుడు', 'డొనాల్డ్', 'ట్రంప్', 'కు', 'రాష్ట్రపతి', 'భవన్', 'వద్ద', 'ఘనస్వాగతం', 'లభించింది', 'ఆయనకు', 'రాష్ట్రపతి', 'రామ్', 'నాథ్', 'కోవింద్', 'దంపతులు', 'ప్రధాని', 'మోదీ', 'సాదరంగా', 'ఆహ్వానం', 'పలకడంతో', 'పాటు', 'సైనికులు', 'గౌరవ', 'వందనాన్ని', 'అందించారు']\n",
            "average number of words per sentence 4.333333333333333\n"
          ]
        }
      ]
    },
    {
      "cell_type": "code",
      "source": [
        "import re\n",
        "pattern = re.compile(r'[\\u0C00-\\u0C7F]+')\n",
        "char_count = 0\n",
        "num=1\n",
        "\n",
        "for i in dataset:\n",
        "    if(num>5):\n",
        "      break\n",
        "    telugu_text = pattern.findall(i['text'])  # List of matched strings\n",
        "    all_chars = ''.join(telugu_text)          # Combine into one string\n",
        "    char_count += len(all_chars)\n",
        "    num+=1              # Count characters\n",
        "\n",
        "print(\"Total number of Telugu characters:\", char_count)\n",
        "res2=char_count/final\n",
        "print(\"average no.of characters per word\",res2)"
      ],
      "metadata": {
        "colab": {
          "base_uri": "https://localhost:8080/"
        },
        "id": "OWPqfI45ZE8W",
        "outputId": "ea47c02c-a0a8-431e-9193-ef14a47ed09c"
      },
      "execution_count": null,
      "outputs": [
        {
          "output_type": "stream",
          "name": "stdout",
          "text": [
            "Total number of Telugu characters: 846\n",
            "average no.of characters per word 32.53846153846154\n"
          ]
        }
      ]
    },
    {
      "cell_type": "code",
      "source": [
        "import re\n",
        "pattern = re.compile(r'[\\u0C00-\\u0C7F]+')\n",
        "\n",
        "all_telugu_tokens = []\n",
        "num=1\n",
        "for i in dataset:\n",
        "    if(num>5):\n",
        "      break\n",
        "    telugu_tokens = pattern.findall(i['text'])\n",
        "    all_telugu_tokens.extend(telugu_tokens)\n",
        "    num+=1\n",
        "total_tokens = len(all_telugu_tokens)\n",
        "unique_tokens = len(set(all_telugu_tokens))\n",
        "\n",
        "ttr = unique_tokens / total_tokens if total_tokens > 0 else 0\n",
        "\n",
        "# print(\"Total Telugu tokens:\", total_tokens)\n",
        "# print(\"Unique Telugu tokens:\", unique_tokens)\n",
        "print(\"Type/Token Ratio (TTR):\", ttr)"
      ],
      "metadata": {
        "colab": {
          "base_uri": "https://localhost:8080/"
        },
        "id": "udM_5FoubUeA",
        "outputId": "f0c1dc11-a221-4b5a-b36f-5008e3fa4d97"
      },
      "execution_count": null,
      "outputs": [
        {
          "output_type": "stream",
          "name": "stdout",
          "text": [
            "Type/Token Ratio (TTR): 0.8888888888888888\n"
          ]
        }
      ]
    },
    {
      "cell_type": "code",
      "source": [],
      "metadata": {
        "id": "7DE4ejAamANq"
      },
      "execution_count": null,
      "outputs": []
    }
  ]
}