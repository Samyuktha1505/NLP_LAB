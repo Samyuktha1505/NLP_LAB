{
 "cells": [
  {
   "cell_type": "code",
   "execution_count": 1,
   "metadata": {
    "colab": {
     "base_uri": "https://localhost:8080/"
    },
    "executionInfo": {
     "elapsed": 70,
     "status": "ok",
     "timestamp": 1755585627336,
     "user": {
      "displayName": "nrupendra sriramakavacham",
      "userId": "12488262865419343648"
     },
     "user_tz": -330
    },
    "id": "7uGkAAyNDWUu",
    "outputId": "800ffa35-acd4-459d-97f2-fcab411e253b"
   },
   "outputs": [
    {
     "name": "stdout",
     "output_type": "stream",
     "text": [
      "Sample words: ['investigation', 'primary', 'election', 'evidence', 'irregularities', 'place', 'jury', 'presentments', 'charge', 'election', 'praise', 'thanks', 'manner', 'election', 'term', 'jury', 'reports', 'irregularities', 'primary', 'handful']\n",
      "Total words: 202793\n"
     ]
    }
   ],
   "source": [
    "with open(\"brown_nouns.txt\", \"r\") as f:\n",
    "    words = [line.strip().lower() for line in f if line.strip()]\n",
    "\n",
    "print(\"Sample words:\", words[:20])\n",
    "print(\"Total words:\", len(words))"
   ]
  },
  {
   "cell_type": "code",
   "execution_count": 2,
   "metadata": {
    "id": "5N-6MvuXDsMe"
   },
   "outputs": [],
   "source": [
    "class TrieNode:\n",
    "    def __init__(self):\n",
    "        self.children = {}\n",
    "        self.count = 0\n",
    "        self.end_of_word = False"
   ]
  },
  {
   "cell_type": "code",
   "execution_count": 3,
   "metadata": {
    "id": "I-C97xjPDuXH"
   },
   "outputs": [],
   "source": [
    "class Trie:\n",
    "    def __init__(self):\n",
    "        self.root = TrieNode()\n",
    "\n",
    "    def insert(self, word):\n",
    "        node = self.root\n",
    "        for ch in word:\n",
    "            if ch not in node.children:\n",
    "                node.children[ch] = TrieNode()\n",
    "            node = node.children[ch]\n",
    "            node.count += 1\n",
    "        node.end_of_word = True\n",
    "\n",
    "    def find_split_point(self, word):\n",
    "        \"\"\"\n",
    "        Find the point where branching is maximum\n",
    "        Return stem, suffix\n",
    "        \"\"\"\n",
    "        node = self.root\n",
    "        split_index = 0\n",
    "        max_branching = 0\n",
    "\n",
    "        for i, ch in enumerate(word):\n",
    "            if ch not in node.children:\n",
    "                break\n",
    "            node = node.children[ch]\n",
    "            branching = len(node.children)\n",
    "            if branching > max_branching:\n",
    "                max_branching = branching\n",
    "                split_index = i + 1\n",
    "\n",
    "        stem = word[:split_index]\n",
    "        suffix = word[split_index:]\n",
    "        return stem, suffix"
   ]
  },
  {
   "cell_type": "code",
   "execution_count": 4,
   "metadata": {
    "colab": {
     "base_uri": "https://localhost:8080/"
    },
    "executionInfo": {
     "elapsed": 348,
     "status": "ok",
     "timestamp": 1755585667604,
     "user": {
      "displayName": "nrupendra sriramakavacham",
      "userId": "12488262865419343648"
     },
     "user_tz": -330
    },
    "id": "LQXPAGDqDwqh",
    "outputId": "8ee0d918-af7c-4d2c-a533-28e804f15ad9"
   },
   "outputs": [
    {
     "name": "stdout",
     "output_type": "stream",
     "text": [
      "('k', 'ites')\n"
     ]
    }
   ],
   "source": [
    "prefix_trie = Trie()\n",
    "for w in words:\n",
    "    prefix_trie.insert(w)\n",
    "\n",
    "print(prefix_trie.find_split_point(\"kites\"))"
   ]
  },
  {
   "cell_type": "code",
   "execution_count": 5,
   "metadata": {
    "colab": {
     "base_uri": "https://localhost:8080/"
    },
    "executionInfo": {
     "elapsed": 468,
     "status": "ok",
     "timestamp": 1755585679620,
     "user": {
      "displayName": "nrupendra sriramakavacham",
      "userId": "12488262865419343648"
     },
     "user_tz": -330
    },
    "id": "L0FnegeLD199",
    "outputId": "c484e95a-667e-488d-f6d8-ff2e10aaa6d6"
   },
   "outputs": [
    {
     "name": "stdout",
     "output_type": "stream",
     "text": [
      "('kite', 's')\n"
     ]
    }
   ],
   "source": [
    "suffix_trie = Trie()\n",
    "for w in words:\n",
    "    suffix_trie.insert(w[::-1])\n",
    "\n",
    "def find_suffix_split(trie, word):\n",
    "    \"\"\"Find suffix using reversed trie\"\"\"\n",
    "    node = trie.root\n",
    "    split_index = 0\n",
    "    max_branching = 0\n",
    "    rev_word = word[::-1]\n",
    "\n",
    "    for i, ch in enumerate(rev_word):\n",
    "        if ch not in node.children:\n",
    "            break\n",
    "        node = node.children[ch]\n",
    "        branching = len(node.children)\n",
    "        if branching > max_branching:\n",
    "            max_branching = branching\n",
    "            split_index = i + 1\n",
    "\n",
    "    suffix = rev_word[:split_index][::-1]\n",
    "    stem = word[:-split_index] if split_index > 0 else word\n",
    "    return stem, suffix\n",
    "\n",
    "print(find_suffix_split(suffix_trie, \"kites\"))"
   ]
  },
  {
   "cell_type": "code",
   "execution_count": 6,
   "metadata": {
    "colab": {
     "base_uri": "https://localhost:8080/"
    },
    "executionInfo": {
     "elapsed": 35,
     "status": "ok",
     "timestamp": 1755585690561,
     "user": {
      "displayName": "nrupendra sriramakavacham",
      "userId": "12488262865419343648"
     },
     "user_tz": -330
    },
    "id": "AKY5XL5CD43n",
    "outputId": "90a85f4b-8710-4bb3-d9d0-4e26727b16c4"
   },
   "outputs": [
    {
     "name": "stdout",
     "output_type": "stream",
     "text": [
      "Word            Prefix Trie          Suffix Trie         \n",
      "------------------------------------------------------------\n",
      "investigation   in+vestigation       investigati+on      \n",
      "primary         p+rimary             primar+y            \n",
      "election        e+lection            electi+on           \n",
      "evidence        e+vidence            evidenc+e           \n",
      "irregularities  i+rregularities      irregularitie+s     \n",
      "place           p+lace               plac+e              \n",
      "jury            ju+ry                jur+y               \n",
      "presentments    p+resentments        presentment+s       \n",
      "charge          c+harge              charg+e             \n",
      "election        e+lection            electi+on           \n",
      "praise          p+raise              prais+e             \n",
      "thanks          t+hanks              thank+s             \n",
      "manner          ma+nner              mann+er             \n",
      "election        e+lection            electi+on           \n",
      "term            t+erm                ter+m               \n",
      "jury            ju+ry                jur+y               \n",
      "reports         re+ports             report+s            \n",
      "irregularities  i+rregularities      irregularitie+s     \n",
      "primary         p+rimary             primar+y            \n",
      "handful         ha+ndful             handfu+l            \n",
      "reports         re+ports             report+s            \n",
      "jury            ju+ry                jur+y               \n",
      "interest        in+terest            interes+t           \n",
      "election        e+lection            electi+on           \n",
      "number          nu+mber              numb+er             \n",
      "voters          vo+ters              voter+s             \n",
      "size            s+ize                siz+e               \n",
      "city            c+ity                cit+y               \n",
      "jury            ju+ry                jur+y               \n",
      "registration    re+gistration        registrati+on       \n",
      "election        e+lection            electi+on           \n",
      "laws            la+ws                law+s               \n",
      "legislators     le+gislators         legislator+s        \n",
      "laws            la+ws                law+s               \n",
      "end             e+nd                 en+d                \n",
      "jury            ju+ry                jur+y               \n",
      "number          nu+mber              numb+er             \n",
      "topics          to+pics              topic+s             \n",
      "departments     de+partments         department+s        \n",
      "practices       p+ractices           practice+s          \n",
      "interest        in+terest            interes+t           \n",
      "governments     g+overnments         government+s        \n",
      "jury            ju+ry                jur+y               \n",
      "offices         o+ffices             office+s            \n",
      "efficiency      e+fficiency          efficienc+y         \n",
      "cost            co+st                cos+t               \n",
      "administration  a+dministration      administrati+on     \n",
      "jury            ju+ry                jur+y               \n",
      "personnel       p+ersonnel           personn+el          \n",
      "result          re+sult              resul+t             \n"
     ]
    }
   ],
   "source": [
    "results = []\n",
    "for w in words[:50]:\n",
    "    pre_stem, pre_suffix = prefix_trie.find_split_point(w)\n",
    "    suf_stem, suf_suffix = find_suffix_split(suffix_trie, w)\n",
    "    results.append((w, f\"{pre_stem}+{pre_suffix}\", f\"{suf_stem}+{suf_suffix}\"))\n",
    "\n",
    "print(\"{:<15} {:<20} {:<20}\".format(\"Word\", \"Prefix Trie\", \"Suffix Trie\"))\n",
    "print(\"-\"*60)\n",
    "for r in results:\n",
    "    print(\"{:<15} {:<20} {:<20}\".format(*r))"
   ]
  },
  {
   "cell_type": "code",
   "execution_count": 7,
   "metadata": {
    "colab": {
     "base_uri": "https://localhost:8080/"
    },
    "executionInfo": {
     "elapsed": 606,
     "status": "ok",
     "timestamp": 1755585705255,
     "user": {
      "displayName": "nrupendra sriramakavacham",
      "userId": "12488262865419343648"
     },
     "user_tz": -330
    },
    "id": "FCTJqCNgD7oG",
    "outputId": "1801f559-0939-4487-94fc-c99aa65c368e"
   },
   "outputs": [
    {
     "name": "stdout",
     "output_type": "stream",
     "text": [
      "Most common suffixes:\n",
      "s: 55539\n",
      "e: 35090\n",
      "t: 19226\n",
      "on: 14811\n",
      "y: 14792\n",
      "er: 8663\n",
      "d: 7965\n",
      "m: 4355\n",
      "ing: 3869\n",
      "k: 3658\n"
     ]
    }
   ],
   "source": [
    "from collections import Counter\n",
    "\n",
    "suffix_counter = Counter()\n",
    "for w in words:\n",
    "    _, suf = find_suffix_split(suffix_trie, w)\n",
    "    if suf:\n",
    "        suffix_counter[suf] += 1\n",
    "\n",
    "print(\"Most common suffixes:\")\n",
    "for suf, cnt in suffix_counter.most_common(10):\n",
    "    print(f\"{suf}: {cnt}\")"
   ]
  },
  {
   "cell_type": "code",
   "execution_count": 8,
   "metadata": {
    "colab": {
     "base_uri": "https://localhost:8080/"
    },
    "executionInfo": {
     "elapsed": 878,
     "status": "ok",
     "timestamp": 1755585715138,
     "user": {
      "displayName": "nrupendra sriramakavacham",
      "userId": "12488262865419343648"
     },
     "user_tz": -330
    },
    "id": "A3M3nisUD_F5",
    "outputId": "3a55f36a-8ad8-4a0f-e31a-19c741d430f3"
   },
   "outputs": [
    {
     "name": "stdout",
     "output_type": "stream",
     "text": [
      "Prefix Trie correct splits: 489\n",
      "Suffix Trie correct splits: 59408\n",
      "=> Suffix trie works better for stemming in this dataset.\n"
     ]
    }
   ],
   "source": [
    "correct_prefix = 0\n",
    "correct_suffix = 0\n",
    "\n",
    "common_suffixes = {\"s\", \"es\", \"ing\", \"ed\"}\n",
    "\n",
    "for w in words:\n",
    "    _, pre_suf = prefix_trie.find_split_point(w)\n",
    "    if pre_suf in common_suffixes:\n",
    "        correct_prefix += 1\n",
    "\n",
    "    _, suf_suf = find_suffix_split(suffix_trie, w)\n",
    "    if suf_suf in common_suffixes:\n",
    "        correct_suffix += 1\n",
    "\n",
    "print(\"Prefix Trie correct splits:\", correct_prefix)\n",
    "print(\"Suffix Trie correct splits:\", correct_suffix)\n",
    "\n",
    "if correct_suffix > correct_prefix:\n",
    "    print(\"=> Suffix trie works better for stemming in this dataset.\")\n",
    "else:\n",
    "    print(\"=> Prefix trie works better for stemming in this dataset.\")"
   ]
  },
  {
   "cell_type": "code",
   "execution_count": null,
   "metadata": {
    "id": "fb4EBH-CEBb5"
   },
   "outputs": [],
   "source": []
  }
 ],
 "metadata": {
  "colab": {
   "authorship_tag": "ABX9TyNkEURP7XN5mz4P/2goCF06",
   "provenance": []
  },
  "kernelspec": {
   "display_name": "Python 3",
   "name": "python3"
  },
  "language_info": {
   "codemirror_mode": {
    "name": "ipython",
    "version": 3
   },
   "file_extension": ".py",
   "mimetype": "text/x-python",
   "name": "python",
   "nbconvert_exporter": "python",
   "pygments_lexer": "ipython3",
   "version": "3.10.13"
  }
 },
 "nbformat": 4,
 "nbformat_minor": 0
}
