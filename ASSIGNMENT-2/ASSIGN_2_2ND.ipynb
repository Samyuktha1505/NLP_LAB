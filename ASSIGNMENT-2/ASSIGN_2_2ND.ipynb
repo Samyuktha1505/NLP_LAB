{
  "cells": [
    {
      "cell_type": "code",
      "execution_count": 2,
      "metadata": {
        "colab": {
          "base_uri": "https://localhost:8080/"
        },
        "id": "h0Sjnjr-yS2F",
        "outputId": "ad4695bd-0d67-4814-82b6-111895f921f8"
      },
      "outputs": [
        {
          "name": "stdout",
          "output_type": "stream",
          "text": [
            "Requirement already satisfied: visual-automata in /Users/kummarisamyuktha/.pyenv/versions/3.10.13/lib/python3.10/site-packages (1.1.1)\n",
            "Requirement already satisfied: automata-lib in /Users/kummarisamyuktha/.pyenv/versions/3.10.13/lib/python3.10/site-packages (from visual-automata) (9.1.2)\n",
            "Requirement already satisfied: pandas in /Users/kummarisamyuktha/.pyenv/versions/3.10.13/lib/python3.10/site-packages (from visual-automata) (2.2.3)\n",
            "Requirement already satisfied: graphviz in /Users/kummarisamyuktha/.pyenv/versions/3.10.13/lib/python3.10/site-packages (from visual-automata) (0.21)\n",
            "Requirement already satisfied: colormath in /Users/kummarisamyuktha/.pyenv/versions/3.10.13/lib/python3.10/site-packages (from visual-automata) (3.0.0)\n",
            "Requirement already satisfied: jupyterlab in /Users/kummarisamyuktha/.pyenv/versions/3.10.13/lib/python3.10/site-packages (from visual-automata) (4.4.5)\n",
            "Requirement already satisfied: forbiddenfruit in /Users/kummarisamyuktha/.pyenv/versions/3.10.13/lib/python3.10/site-packages (from visual-automata) (0.1.4)\n",
            "Requirement already satisfied: networkx>=2.6.2 in /Users/kummarisamyuktha/.pyenv/versions/3.10.13/lib/python3.10/site-packages (from automata-lib->visual-automata) (3.4.2)\n",
            "Requirement already satisfied: frozendict>=2.3.4 in /Users/kummarisamyuktha/.pyenv/versions/3.10.13/lib/python3.10/site-packages (from automata-lib->visual-automata) (2.4.6)\n",
            "Requirement already satisfied: typing-extensions>=4.5.0 in /Users/kummarisamyuktha/.pyenv/versions/3.10.13/lib/python3.10/site-packages (from automata-lib->visual-automata) (4.13.2)\n",
            "Requirement already satisfied: cached_method>=0.1.0 in /Users/kummarisamyuktha/.pyenv/versions/3.10.13/lib/python3.10/site-packages (from automata-lib->visual-automata) (0.1.0)\n",
            "Requirement already satisfied: numpy in /Users/kummarisamyuktha/.pyenv/versions/3.10.13/lib/python3.10/site-packages (from colormath->visual-automata) (2.2.6)\n",
            "Requirement already satisfied: async-lru>=1.0.0 in /Users/kummarisamyuktha/.pyenv/versions/3.10.13/lib/python3.10/site-packages (from jupyterlab->visual-automata) (2.0.5)\n",
            "Requirement already satisfied: httpx>=0.25.0 in /Users/kummarisamyuktha/.pyenv/versions/3.10.13/lib/python3.10/site-packages (from jupyterlab->visual-automata) (0.28.1)\n",
            "Requirement already satisfied: ipykernel>=6.5.0 in /Users/kummarisamyuktha/.pyenv/versions/3.10.13/lib/python3.10/site-packages (from jupyterlab->visual-automata) (6.29.5)\n",
            "Requirement already satisfied: jinja2>=3.0.3 in /Users/kummarisamyuktha/.pyenv/versions/3.10.13/lib/python3.10/site-packages (from jupyterlab->visual-automata) (3.1.6)\n",
            "Requirement already satisfied: jupyter-core in /Users/kummarisamyuktha/.pyenv/versions/3.10.13/lib/python3.10/site-packages (from jupyterlab->visual-automata) (5.7.2)\n",
            "Requirement already satisfied: jupyter-lsp>=2.0.0 in /Users/kummarisamyuktha/.pyenv/versions/3.10.13/lib/python3.10/site-packages (from jupyterlab->visual-automata) (2.2.6)\n",
            "Requirement already satisfied: jupyter-server<3,>=2.4.0 in /Users/kummarisamyuktha/.pyenv/versions/3.10.13/lib/python3.10/site-packages (from jupyterlab->visual-automata) (2.16.0)\n",
            "Requirement already satisfied: jupyterlab-server<3,>=2.27.1 in /Users/kummarisamyuktha/.pyenv/versions/3.10.13/lib/python3.10/site-packages (from jupyterlab->visual-automata) (2.27.3)\n",
            "Requirement already satisfied: notebook-shim>=0.2 in /Users/kummarisamyuktha/.pyenv/versions/3.10.13/lib/python3.10/site-packages (from jupyterlab->visual-automata) (0.2.4)\n",
            "Requirement already satisfied: packaging in /Users/kummarisamyuktha/.pyenv/versions/3.10.13/lib/python3.10/site-packages (from jupyterlab->visual-automata) (24.2)\n",
            "Requirement already satisfied: setuptools>=41.1.0 in /Users/kummarisamyuktha/.pyenv/versions/3.10.13/lib/python3.10/site-packages (from jupyterlab->visual-automata) (80.9.0)\n",
            "Requirement already satisfied: tomli>=1.2.2 in /Users/kummarisamyuktha/.pyenv/versions/3.10.13/lib/python3.10/site-packages (from jupyterlab->visual-automata) (2.2.1)\n",
            "Requirement already satisfied: tornado>=6.2.0 in /Users/kummarisamyuktha/.pyenv/versions/3.10.13/lib/python3.10/site-packages (from jupyterlab->visual-automata) (6.5)\n",
            "Requirement already satisfied: traitlets in /Users/kummarisamyuktha/.pyenv/versions/3.10.13/lib/python3.10/site-packages (from jupyterlab->visual-automata) (5.14.3)\n",
            "Requirement already satisfied: anyio>=3.1.0 in /Users/kummarisamyuktha/.pyenv/versions/3.10.13/lib/python3.10/site-packages (from jupyter-server<3,>=2.4.0->jupyterlab->visual-automata) (4.9.0)\n",
            "Requirement already satisfied: argon2-cffi>=21.1 in /Users/kummarisamyuktha/.pyenv/versions/3.10.13/lib/python3.10/site-packages (from jupyter-server<3,>=2.4.0->jupyterlab->visual-automata) (25.1.0)\n",
            "Requirement already satisfied: jupyter-client>=7.4.4 in /Users/kummarisamyuktha/.pyenv/versions/3.10.13/lib/python3.10/site-packages (from jupyter-server<3,>=2.4.0->jupyterlab->visual-automata) (8.6.3)\n",
            "Requirement already satisfied: jupyter-events>=0.11.0 in /Users/kummarisamyuktha/.pyenv/versions/3.10.13/lib/python3.10/site-packages (from jupyter-server<3,>=2.4.0->jupyterlab->visual-automata) (0.12.0)\n",
            "Requirement already satisfied: jupyter-server-terminals>=0.4.4 in /Users/kummarisamyuktha/.pyenv/versions/3.10.13/lib/python3.10/site-packages (from jupyter-server<3,>=2.4.0->jupyterlab->visual-automata) (0.5.3)\n",
            "Requirement already satisfied: nbconvert>=6.4.4 in /Users/kummarisamyuktha/.pyenv/versions/3.10.13/lib/python3.10/site-packages (from jupyter-server<3,>=2.4.0->jupyterlab->visual-automata) (7.16.6)\n",
            "Requirement already satisfied: nbformat>=5.3.0 in /Users/kummarisamyuktha/.pyenv/versions/3.10.13/lib/python3.10/site-packages (from jupyter-server<3,>=2.4.0->jupyterlab->visual-automata) (5.10.4)\n",
            "Requirement already satisfied: overrides>=5.0 in /Users/kummarisamyuktha/.pyenv/versions/3.10.13/lib/python3.10/site-packages (from jupyter-server<3,>=2.4.0->jupyterlab->visual-automata) (7.7.0)\n",
            "Requirement already satisfied: prometheus-client>=0.9 in /Users/kummarisamyuktha/.pyenv/versions/3.10.13/lib/python3.10/site-packages (from jupyter-server<3,>=2.4.0->jupyterlab->visual-automata) (0.22.1)\n",
            "Requirement already satisfied: pyzmq>=24 in /Users/kummarisamyuktha/.pyenv/versions/3.10.13/lib/python3.10/site-packages (from jupyter-server<3,>=2.4.0->jupyterlab->visual-automata) (26.4.0)\n",
            "Requirement already satisfied: send2trash>=1.8.2 in /Users/kummarisamyuktha/.pyenv/versions/3.10.13/lib/python3.10/site-packages (from jupyter-server<3,>=2.4.0->jupyterlab->visual-automata) (1.8.3)\n",
            "Requirement already satisfied: terminado>=0.8.3 in /Users/kummarisamyuktha/.pyenv/versions/3.10.13/lib/python3.10/site-packages (from jupyter-server<3,>=2.4.0->jupyterlab->visual-automata) (0.18.1)\n",
            "Requirement already satisfied: websocket-client>=1.7 in /Users/kummarisamyuktha/.pyenv/versions/3.10.13/lib/python3.10/site-packages (from jupyter-server<3,>=2.4.0->jupyterlab->visual-automata) (1.8.0)\n",
            "Requirement already satisfied: babel>=2.10 in /Users/kummarisamyuktha/.pyenv/versions/3.10.13/lib/python3.10/site-packages (from jupyterlab-server<3,>=2.27.1->jupyterlab->visual-automata) (2.17.0)\n",
            "Requirement already satisfied: json5>=0.9.0 in /Users/kummarisamyuktha/.pyenv/versions/3.10.13/lib/python3.10/site-packages (from jupyterlab-server<3,>=2.27.1->jupyterlab->visual-automata) (0.12.1)\n",
            "Requirement already satisfied: jsonschema>=4.18.0 in /Users/kummarisamyuktha/.pyenv/versions/3.10.13/lib/python3.10/site-packages (from jupyterlab-server<3,>=2.27.1->jupyterlab->visual-automata) (4.23.0)\n",
            "Requirement already satisfied: requests>=2.31 in /Users/kummarisamyuktha/.pyenv/versions/3.10.13/lib/python3.10/site-packages (from jupyterlab-server<3,>=2.27.1->jupyterlab->visual-automata) (2.32.3)\n",
            "Requirement already satisfied: exceptiongroup>=1.0.2 in /Users/kummarisamyuktha/.pyenv/versions/3.10.13/lib/python3.10/site-packages (from anyio>=3.1.0->jupyter-server<3,>=2.4.0->jupyterlab->visual-automata) (1.3.0)\n",
            "Requirement already satisfied: idna>=2.8 in /Users/kummarisamyuktha/.pyenv/versions/3.10.13/lib/python3.10/site-packages (from anyio>=3.1.0->jupyter-server<3,>=2.4.0->jupyterlab->visual-automata) (3.10)\n",
            "Requirement already satisfied: sniffio>=1.1 in /Users/kummarisamyuktha/.pyenv/versions/3.10.13/lib/python3.10/site-packages (from anyio>=3.1.0->jupyter-server<3,>=2.4.0->jupyterlab->visual-automata) (1.3.1)\n",
            "Requirement already satisfied: argon2-cffi-bindings in /Users/kummarisamyuktha/.pyenv/versions/3.10.13/lib/python3.10/site-packages (from argon2-cffi>=21.1->jupyter-server<3,>=2.4.0->jupyterlab->visual-automata) (25.1.0)\n",
            "Requirement already satisfied: certifi in /Users/kummarisamyuktha/.pyenv/versions/3.10.13/lib/python3.10/site-packages (from httpx>=0.25.0->jupyterlab->visual-automata) (2025.4.26)\n",
            "Requirement already satisfied: httpcore==1.* in /Users/kummarisamyuktha/.pyenv/versions/3.10.13/lib/python3.10/site-packages (from httpx>=0.25.0->jupyterlab->visual-automata) (1.0.9)\n",
            "Requirement already satisfied: h11>=0.16 in /Users/kummarisamyuktha/.pyenv/versions/3.10.13/lib/python3.10/site-packages (from httpcore==1.*->httpx>=0.25.0->jupyterlab->visual-automata) (0.16.0)\n",
            "Requirement already satisfied: appnope in /Users/kummarisamyuktha/.pyenv/versions/3.10.13/lib/python3.10/site-packages (from ipykernel>=6.5.0->jupyterlab->visual-automata) (0.1.4)\n",
            "Requirement already satisfied: comm>=0.1.1 in /Users/kummarisamyuktha/.pyenv/versions/3.10.13/lib/python3.10/site-packages (from ipykernel>=6.5.0->jupyterlab->visual-automata) (0.2.2)\n",
            "Requirement already satisfied: debugpy>=1.6.5 in /Users/kummarisamyuktha/.pyenv/versions/3.10.13/lib/python3.10/site-packages (from ipykernel>=6.5.0->jupyterlab->visual-automata) (1.8.14)\n",
            "Requirement already satisfied: ipython>=7.23.1 in /Users/kummarisamyuktha/.pyenv/versions/3.10.13/lib/python3.10/site-packages (from ipykernel>=6.5.0->jupyterlab->visual-automata) (8.36.0)\n",
            "Requirement already satisfied: matplotlib-inline>=0.1 in /Users/kummarisamyuktha/.pyenv/versions/3.10.13/lib/python3.10/site-packages (from ipykernel>=6.5.0->jupyterlab->visual-automata) (0.1.7)\n",
            "Requirement already satisfied: nest-asyncio in /Users/kummarisamyuktha/.pyenv/versions/3.10.13/lib/python3.10/site-packages (from ipykernel>=6.5.0->jupyterlab->visual-automata) (1.6.0)\n",
            "Requirement already satisfied: psutil in /Users/kummarisamyuktha/.pyenv/versions/3.10.13/lib/python3.10/site-packages (from ipykernel>=6.5.0->jupyterlab->visual-automata) (7.0.0)\n",
            "Requirement already satisfied: decorator in /Users/kummarisamyuktha/.pyenv/versions/3.10.13/lib/python3.10/site-packages (from ipython>=7.23.1->ipykernel>=6.5.0->jupyterlab->visual-automata) (5.2.1)\n",
            "Requirement already satisfied: jedi>=0.16 in /Users/kummarisamyuktha/.pyenv/versions/3.10.13/lib/python3.10/site-packages (from ipython>=7.23.1->ipykernel>=6.5.0->jupyterlab->visual-automata) (0.19.2)\n",
            "Requirement already satisfied: pexpect>4.3 in /Users/kummarisamyuktha/.pyenv/versions/3.10.13/lib/python3.10/site-packages (from ipython>=7.23.1->ipykernel>=6.5.0->jupyterlab->visual-automata) (4.9.0)\n",
            "Requirement already satisfied: prompt_toolkit<3.1.0,>=3.0.41 in /Users/kummarisamyuktha/.pyenv/versions/3.10.13/lib/python3.10/site-packages (from ipython>=7.23.1->ipykernel>=6.5.0->jupyterlab->visual-automata) (3.0.51)\n",
            "Requirement already satisfied: pygments>=2.4.0 in /Users/kummarisamyuktha/.pyenv/versions/3.10.13/lib/python3.10/site-packages (from ipython>=7.23.1->ipykernel>=6.5.0->jupyterlab->visual-automata) (2.19.1)\n",
            "Requirement already satisfied: stack_data in /Users/kummarisamyuktha/.pyenv/versions/3.10.13/lib/python3.10/site-packages (from ipython>=7.23.1->ipykernel>=6.5.0->jupyterlab->visual-automata) (0.6.3)\n",
            "Requirement already satisfied: wcwidth in /Users/kummarisamyuktha/.pyenv/versions/3.10.13/lib/python3.10/site-packages (from prompt_toolkit<3.1.0,>=3.0.41->ipython>=7.23.1->ipykernel>=6.5.0->jupyterlab->visual-automata) (0.2.13)\n",
            "Requirement already satisfied: parso<0.9.0,>=0.8.4 in /Users/kummarisamyuktha/.pyenv/versions/3.10.13/lib/python3.10/site-packages (from jedi>=0.16->ipython>=7.23.1->ipykernel>=6.5.0->jupyterlab->visual-automata) (0.8.4)\n",
            "Requirement already satisfied: MarkupSafe>=2.0 in /Users/kummarisamyuktha/.pyenv/versions/3.10.13/lib/python3.10/site-packages (from jinja2>=3.0.3->jupyterlab->visual-automata) (3.0.2)\n",
            "Requirement already satisfied: attrs>=22.2.0 in /Users/kummarisamyuktha/.pyenv/versions/3.10.13/lib/python3.10/site-packages (from jsonschema>=4.18.0->jupyterlab-server<3,>=2.27.1->jupyterlab->visual-automata) (25.3.0)\n",
            "Requirement already satisfied: jsonschema-specifications>=2023.03.6 in /Users/kummarisamyuktha/.pyenv/versions/3.10.13/lib/python3.10/site-packages (from jsonschema>=4.18.0->jupyterlab-server<3,>=2.27.1->jupyterlab->visual-automata) (2025.4.1)\n",
            "Requirement already satisfied: referencing>=0.28.4 in /Users/kummarisamyuktha/.pyenv/versions/3.10.13/lib/python3.10/site-packages (from jsonschema>=4.18.0->jupyterlab-server<3,>=2.27.1->jupyterlab->visual-automata) (0.36.2)\n",
            "Requirement already satisfied: rpds-py>=0.7.1 in /Users/kummarisamyuktha/.pyenv/versions/3.10.13/lib/python3.10/site-packages (from jsonschema>=4.18.0->jupyterlab-server<3,>=2.27.1->jupyterlab->visual-automata) (0.25.0)\n",
            "Requirement already satisfied: python-dateutil>=2.8.2 in /Users/kummarisamyuktha/.pyenv/versions/3.10.13/lib/python3.10/site-packages (from jupyter-client>=7.4.4->jupyter-server<3,>=2.4.0->jupyterlab->visual-automata) (2.9.0.post0)\n",
            "Requirement already satisfied: platformdirs>=2.5 in /Users/kummarisamyuktha/.pyenv/versions/3.10.13/lib/python3.10/site-packages (from jupyter-core->jupyterlab->visual-automata) (4.3.8)\n",
            "Requirement already satisfied: python-json-logger>=2.0.4 in /Users/kummarisamyuktha/.pyenv/versions/3.10.13/lib/python3.10/site-packages (from jupyter-events>=0.11.0->jupyter-server<3,>=2.4.0->jupyterlab->visual-automata) (3.3.0)\n",
            "Requirement already satisfied: pyyaml>=5.3 in /Users/kummarisamyuktha/.pyenv/versions/3.10.13/lib/python3.10/site-packages (from jupyter-events>=0.11.0->jupyter-server<3,>=2.4.0->jupyterlab->visual-automata) (6.0.2)\n",
            "Requirement already satisfied: rfc3339-validator in /Users/kummarisamyuktha/.pyenv/versions/3.10.13/lib/python3.10/site-packages (from jupyter-events>=0.11.0->jupyter-server<3,>=2.4.0->jupyterlab->visual-automata) (0.1.4)\n",
            "Requirement already satisfied: rfc3986-validator>=0.1.1 in /Users/kummarisamyuktha/.pyenv/versions/3.10.13/lib/python3.10/site-packages (from jupyter-events>=0.11.0->jupyter-server<3,>=2.4.0->jupyterlab->visual-automata) (0.1.1)\n",
            "Requirement already satisfied: fqdn in /Users/kummarisamyuktha/.pyenv/versions/3.10.13/lib/python3.10/site-packages (from jsonschema[format-nongpl]>=4.18.0->jupyter-events>=0.11.0->jupyter-server<3,>=2.4.0->jupyterlab->visual-automata) (1.5.1)\n",
            "Requirement already satisfied: isoduration in /Users/kummarisamyuktha/.pyenv/versions/3.10.13/lib/python3.10/site-packages (from jsonschema[format-nongpl]>=4.18.0->jupyter-events>=0.11.0->jupyter-server<3,>=2.4.0->jupyterlab->visual-automata) (20.11.0)\n",
            "Requirement already satisfied: jsonpointer>1.13 in /Users/kummarisamyuktha/.pyenv/versions/3.10.13/lib/python3.10/site-packages (from jsonschema[format-nongpl]>=4.18.0->jupyter-events>=0.11.0->jupyter-server<3,>=2.4.0->jupyterlab->visual-automata) (3.0.0)\n",
            "Requirement already satisfied: uri-template in /Users/kummarisamyuktha/.pyenv/versions/3.10.13/lib/python3.10/site-packages (from jsonschema[format-nongpl]>=4.18.0->jupyter-events>=0.11.0->jupyter-server<3,>=2.4.0->jupyterlab->visual-automata) (1.3.0)\n",
            "Requirement already satisfied: webcolors>=24.6.0 in /Users/kummarisamyuktha/.pyenv/versions/3.10.13/lib/python3.10/site-packages (from jsonschema[format-nongpl]>=4.18.0->jupyter-events>=0.11.0->jupyter-server<3,>=2.4.0->jupyterlab->visual-automata) (24.11.1)\n",
            "Requirement already satisfied: beautifulsoup4 in /Users/kummarisamyuktha/.pyenv/versions/3.10.13/lib/python3.10/site-packages (from nbconvert>=6.4.4->jupyter-server<3,>=2.4.0->jupyterlab->visual-automata) (4.13.4)\n",
            "Requirement already satisfied: bleach!=5.0.0 in /Users/kummarisamyuktha/.pyenv/versions/3.10.13/lib/python3.10/site-packages (from bleach[css]!=5.0.0->nbconvert>=6.4.4->jupyter-server<3,>=2.4.0->jupyterlab->visual-automata) (6.2.0)\n",
            "Requirement already satisfied: defusedxml in /Users/kummarisamyuktha/.pyenv/versions/3.10.13/lib/python3.10/site-packages (from nbconvert>=6.4.4->jupyter-server<3,>=2.4.0->jupyterlab->visual-automata) (0.7.1)\n",
            "Requirement already satisfied: jupyterlab-pygments in /Users/kummarisamyuktha/.pyenv/versions/3.10.13/lib/python3.10/site-packages (from nbconvert>=6.4.4->jupyter-server<3,>=2.4.0->jupyterlab->visual-automata) (0.3.0)\n",
            "Requirement already satisfied: mistune<4,>=2.0.3 in /Users/kummarisamyuktha/.pyenv/versions/3.10.13/lib/python3.10/site-packages (from nbconvert>=6.4.4->jupyter-server<3,>=2.4.0->jupyterlab->visual-automata) (3.1.3)\n",
            "Requirement already satisfied: nbclient>=0.5.0 in /Users/kummarisamyuktha/.pyenv/versions/3.10.13/lib/python3.10/site-packages (from nbconvert>=6.4.4->jupyter-server<3,>=2.4.0->jupyterlab->visual-automata) (0.10.2)\n",
            "Requirement already satisfied: pandocfilters>=1.4.1 in /Users/kummarisamyuktha/.pyenv/versions/3.10.13/lib/python3.10/site-packages (from nbconvert>=6.4.4->jupyter-server<3,>=2.4.0->jupyterlab->visual-automata) (1.5.1)\n",
            "Requirement already satisfied: webencodings in /Users/kummarisamyuktha/.pyenv/versions/3.10.13/lib/python3.10/site-packages (from bleach!=5.0.0->bleach[css]!=5.0.0->nbconvert>=6.4.4->jupyter-server<3,>=2.4.0->jupyterlab->visual-automata) (0.5.1)\n",
            "Requirement already satisfied: tinycss2<1.5,>=1.1.0 in /Users/kummarisamyuktha/.pyenv/versions/3.10.13/lib/python3.10/site-packages (from bleach[css]!=5.0.0->nbconvert>=6.4.4->jupyter-server<3,>=2.4.0->jupyterlab->visual-automata) (1.4.0)\n",
            "Requirement already satisfied: fastjsonschema>=2.15 in /Users/kummarisamyuktha/.pyenv/versions/3.10.13/lib/python3.10/site-packages (from nbformat>=5.3.0->jupyter-server<3,>=2.4.0->jupyterlab->visual-automata) (2.21.1)\n",
            "Requirement already satisfied: ptyprocess>=0.5 in /Users/kummarisamyuktha/.pyenv/versions/3.10.13/lib/python3.10/site-packages (from pexpect>4.3->ipython>=7.23.1->ipykernel>=6.5.0->jupyterlab->visual-automata) (0.7.0)\n",
            "Requirement already satisfied: six>=1.5 in /Users/kummarisamyuktha/.pyenv/versions/3.10.13/lib/python3.10/site-packages (from python-dateutil>=2.8.2->jupyter-client>=7.4.4->jupyter-server<3,>=2.4.0->jupyterlab->visual-automata) (1.17.0)\n",
            "Requirement already satisfied: charset-normalizer<4,>=2 in /Users/kummarisamyuktha/.pyenv/versions/3.10.13/lib/python3.10/site-packages (from requests>=2.31->jupyterlab-server<3,>=2.27.1->jupyterlab->visual-automata) (3.4.2)\n",
            "Requirement already satisfied: urllib3<3,>=1.21.1 in /Users/kummarisamyuktha/.pyenv/versions/3.10.13/lib/python3.10/site-packages (from requests>=2.31->jupyterlab-server<3,>=2.27.1->jupyterlab->visual-automata) (2.4.0)\n",
            "Requirement already satisfied: cffi>=1.0.1 in /Users/kummarisamyuktha/.pyenv/versions/3.10.13/lib/python3.10/site-packages (from argon2-cffi-bindings->argon2-cffi>=21.1->jupyter-server<3,>=2.4.0->jupyterlab->visual-automata) (1.17.1)\n",
            "Requirement already satisfied: pycparser in /Users/kummarisamyuktha/.pyenv/versions/3.10.13/lib/python3.10/site-packages (from cffi>=1.0.1->argon2-cffi-bindings->argon2-cffi>=21.1->jupyter-server<3,>=2.4.0->jupyterlab->visual-automata) (2.22)\n",
            "Requirement already satisfied: soupsieve>1.2 in /Users/kummarisamyuktha/.pyenv/versions/3.10.13/lib/python3.10/site-packages (from beautifulsoup4->nbconvert>=6.4.4->jupyter-server<3,>=2.4.0->jupyterlab->visual-automata) (2.7)\n",
            "Requirement already satisfied: arrow>=0.15.0 in /Users/kummarisamyuktha/.pyenv/versions/3.10.13/lib/python3.10/site-packages (from isoduration->jsonschema[format-nongpl]>=4.18.0->jupyter-events>=0.11.0->jupyter-server<3,>=2.4.0->jupyterlab->visual-automata) (1.3.0)\n",
            "Requirement already satisfied: types-python-dateutil>=2.8.10 in /Users/kummarisamyuktha/.pyenv/versions/3.10.13/lib/python3.10/site-packages (from arrow>=0.15.0->isoduration->jsonschema[format-nongpl]>=4.18.0->jupyter-events>=0.11.0->jupyter-server<3,>=2.4.0->jupyterlab->visual-automata) (2.9.0.20250809)\n",
            "Requirement already satisfied: pytz>=2020.1 in /Users/kummarisamyuktha/.pyenv/versions/3.10.13/lib/python3.10/site-packages (from pandas->visual-automata) (2025.2)\n",
            "Requirement already satisfied: tzdata>=2022.7 in /Users/kummarisamyuktha/.pyenv/versions/3.10.13/lib/python3.10/site-packages (from pandas->visual-automata) (2025.2)\n",
            "Requirement already satisfied: executing>=1.2.0 in /Users/kummarisamyuktha/.pyenv/versions/3.10.13/lib/python3.10/site-packages (from stack_data->ipython>=7.23.1->ipykernel>=6.5.0->jupyterlab->visual-automata) (2.2.0)\n",
            "Requirement already satisfied: asttokens>=2.1.0 in /Users/kummarisamyuktha/.pyenv/versions/3.10.13/lib/python3.10/site-packages (from stack_data->ipython>=7.23.1->ipykernel>=6.5.0->jupyterlab->visual-automata) (3.0.0)\n",
            "Requirement already satisfied: pure-eval in /Users/kummarisamyuktha/.pyenv/versions/3.10.13/lib/python3.10/site-packages (from stack_data->ipython>=7.23.1->ipykernel>=6.5.0->jupyterlab->visual-automata) (0.2.3)\n"
          ]
        }
      ],
      "source": [
        "!pip install visual-automata"
      ]
    },
    {
      "cell_type": "code",
      "execution_count": 3,
      "metadata": {
        "id": "lX_p8nk4Qs6H"
      },
      "outputs": [],
      "source": [
        "from visual_automata.fa.dfa import VisualDFA\n",
        "import re"
      ]
    },
    {
      "cell_type": "code",
      "execution_count": 4,
      "metadata": {
        "colab": {
          "base_uri": "https://localhost:8080/"
        },
        "id": "W6uqR7NnQzqu",
        "outputId": "517f70be-526f-42c9-ec05-a4ea24f91a11"
      },
      "outputs": [
        {
          "name": "stdout",
          "output_type": "stream",
          "text": [
            "Loaded 202793 nouns. Sample: ['investigation', 'primary', 'election', 'evidence', 'irregularities', 'place', 'jury', 'presentments', 'charge', 'election']\n"
          ]
        }
      ],
      "source": [
        "with open(\"brown_nouns.txt\", \"r\") as f:\n",
        "    nouns = [line.strip().lower() for line in f if line.strip()]\n",
        "\n",
        "print(f\"Loaded {len(nouns)} nouns. Sample:\", nouns[:10])"
      ]
    },
    {
      "cell_type": "code",
      "execution_count": 5,
      "metadata": {
        "id": "wpQh6aXiQ4Gp"
      },
      "outputs": [],
      "source": [
        "def analyze_word(word):\n",
        "    if re.match(r\".*(s|x|z|ch|sh)es$\", word):\n",
        "        root = re.sub(r\"es$\", \"\", word)\n",
        "        return f\"{root}+N+PL\"\n",
        "\n",
        "    if re.match(r\".*ies$\", word):\n",
        "        root = re.sub(r\"ies$\", \"y\", word)\n",
        "        return f\"{root}+N+PL\"\n",
        "\n",
        "    if re.match(r\".+s$\", word) and not re.match(r\".*(ss|us|is)$\", word):\n",
        "        root = re.sub(r\"s$\", \"\", word)\n",
        "        return f\"{root}+N+PL\"\n",
        "\n",
        "    if word in nouns:\n",
        "        return f\"{word}+N+SG\"\n",
        "\n",
        "    return \"Invalid Word\"\n"
      ]
    },
    {
      "cell_type": "code",
      "execution_count": 6,
      "metadata": {
        "colab": {
          "base_uri": "https://localhost:8080/"
        },
        "id": "bH7veK7yQ_JS",
        "outputId": "791c2691-4810-4abf-bb2e-a0b47505f19b"
      },
      "outputs": [
        {
          "name": "stdout",
          "output_type": "stream",
          "text": [
            "investigation : investigation+N+SG\n",
            "primary : primary+N+SG\n",
            "election : election+N+SG\n",
            "evidence : evidence+N+SG\n",
            "irregularities : irregularity+N+PL\n",
            "place : place+N+SG\n",
            "jury : jury+N+SG\n",
            "presentments : presentment+N+PL\n",
            "charge : charge+N+SG\n",
            "praise : praise+N+SG\n"
          ]
        }
      ],
      "source": [
        "results = {}\n",
        "for noun in nouns:\n",
        "    results[noun] = analyze_word(noun)\n",
        "\n",
        "for k, v in list(results.items())[:10]:\n",
        "    print(f\"{k} : {v}\")"
      ]
    },
    {
      "cell_type": "code",
      "execution_count": 7,
      "metadata": {
        "colab": {
          "base_uri": "https://localhost:8080/"
        },
        "id": "I2LUkTcKRCQY",
        "outputId": "42fd65e9-d52a-4fdb-996b-0acf689a4900"
      },
      "outputs": [
        {
          "name": "stdout",
          "output_type": "stream",
          "text": [
            "Results saved to noun_analysis_output.txt\n"
          ]
        }
      ],
      "source": [
        "output_file = \"noun_analysis_output.txt\"\n",
        "with open(output_file, \"w\") as f:\n",
        "    for word, analysis in results.items():\n",
        "        f.write(f\"{word} : {analysis}\\n\")\n",
        "\n",
        "print(f\"Results saved to {output_file}\")"
      ]
    },
    {
      "cell_type": "code",
      "execution_count": 8,
      "metadata": {
        "colab": {
          "base_uri": "https://localhost:8080/",
          "height": 544
        },
        "id": "GCQfuXlGRQ1W",
        "outputId": "1f14e5c3-d8f4-4659-cd5b-8a1f0c4a651a"
      },
      "outputs": [
        {
          "data": {
            "image/svg+xml": [
              "<?xml version=\"1.0\" encoding=\"UTF-8\" standalone=\"no\"?>\n",
              "<!DOCTYPE svg PUBLIC \"-//W3C//DTD SVG 1.1//EN\"\n",
              " \"http://www.w3.org/Graphics/SVG/1.1/DTD/svg11.dtd\">\n",
              "<!-- Generated by graphviz version 13.1.2 (20250808.2320)\n",
              " -->\n",
              "<!-- Pages: 1 -->\n",
              "<svg width=\"307pt\" height=\"406pt\"\n",
              " viewBox=\"0.00 0.00 307.00 406.00\" xmlns=\"http://www.w3.org/2000/svg\" xmlns:xlink=\"http://www.w3.org/1999/xlink\">\n",
              "<g id=\"graph0\" class=\"graph\" transform=\"scale(1 1) rotate(0) translate(4 402.45)\">\n",
              "<polygon fill=\"white\" stroke=\"none\" points=\"-4,4 -4,-402.45 303.26,-402.45 303.26,4 -4,4\"/>\n",
              "<!-- Initial -->\n",
              "<g id=\"node1\" class=\"node\">\n",
              "<title>Initial</title>\n",
              "<ellipse fill=\"black\" stroke=\"black\" cx=\"1.8\" cy=\"-244.13\" rx=\"1.8\" ry=\"1.8\"/>\n",
              "</g>\n",
              "<!-- q0 -->\n",
              "<g id=\"node3\" class=\"node\">\n",
              "<title>q0</title>\n",
              "<ellipse fill=\"none\" stroke=\"black\" cx=\"60.73\" cy=\"-244.13\" rx=\"20.13\" ry=\"20.13\"/>\n",
              "<text xml:space=\"preserve\" text-anchor=\"middle\" x=\"60.73\" y=\"-239.08\" font-family=\"Times,serif\" font-size=\"14.00\">q0</text>\n",
              "</g>\n",
              "<!-- Initial&#45;&gt;q0 -->\n",
              "<g id=\"edge1\" class=\"edge\">\n",
              "<title>Initial&#45;&gt;q0</title>\n",
              "<path fill=\"none\" stroke=\"black\" d=\"M3.79,-244.13C7.18,-244.13 18.79,-244.13 30.56,-244.13\"/>\n",
              "<polygon fill=\"black\" stroke=\"black\" points=\"30.29,-247.11 38.79,-244.13 30.29,-241.16 30.29,-247.11\"/>\n",
              "</g>\n",
              "<!-- dead -->\n",
              "<g id=\"node2\" class=\"node\">\n",
              "<title>dead</title>\n",
              "<ellipse fill=\"none\" stroke=\"black\" cx=\"270.94\" cy=\"-232.13\" rx=\"28.32\" ry=\"28.32\"/>\n",
              "<text xml:space=\"preserve\" text-anchor=\"middle\" x=\"270.94\" y=\"-227.08\" font-family=\"Times,serif\" font-size=\"14.00\">dead</text>\n",
              "</g>\n",
              "<!-- dead&#45;&gt;dead -->\n",
              "<g id=\"edge18\" class=\"edge\">\n",
              "<title>dead&#45;&gt;dead</title>\n",
              "<path fill=\"none\" stroke=\"black\" d=\"M267.95,-260.63C267.92,-270.49 268.92,-278.45 270.94,-278.45 272.21,-278.45 273.08,-275.34 273.54,-270.6\"/>\n",
              "<polygon fill=\"black\" stroke=\"black\" points=\"276.51,-270.75 273.88,-262.14 270.57,-270.51 276.51,-270.75\"/>\n",
              "<text xml:space=\"preserve\" text-anchor=\"middle\" x=\"270.94\" y=\"-281.65\" font-family=\"Times,serif\" font-size=\"14.00\"> letter </text>\n",
              "</g>\n",
              "<!-- dead&#45;&gt;dead -->\n",
              "<g id=\"edge19\" class=\"edge\">\n",
              "<title>dead&#45;&gt;dead</title>\n",
              "<path fill=\"none\" stroke=\"black\" d=\"M265.45,-260.23C263.96,-278.64 265.79,-296.45 270.94,-296.45 275.17,-296.45 277.16,-284.46 276.92,-270\"/>\n",
              "<polygon fill=\"black\" stroke=\"black\" points=\"279.9,-270.09 276.51,-261.74 273.96,-270.38 279.9,-270.09\"/>\n",
              "<text xml:space=\"preserve\" text-anchor=\"middle\" x=\"270.94\" y=\"-299.65\" font-family=\"Times,serif\" font-size=\"14.00\"> s </text>\n",
              "</g>\n",
              "<!-- dead&#45;&gt;dead -->\n",
              "<g id=\"edge20\" class=\"edge\">\n",
              "<title>dead&#45;&gt;dead</title>\n",
              "<path fill=\"none\" stroke=\"black\" d=\"M263.67,-259.96C259.9,-286.1 262.33,-314.45 270.94,-314.45 278.48,-314.45 281.28,-292.74 279.34,-269.81\"/>\n",
              "<polygon fill=\"black\" stroke=\"black\" points=\"282.31,-269.58 278.39,-261.47 276.4,-270.25 282.31,-269.58\"/>\n",
              "<text xml:space=\"preserve\" text-anchor=\"middle\" x=\"270.94\" y=\"-317.65\" font-family=\"Times,serif\" font-size=\"14.00\"> e </text>\n",
              "</g>\n",
              "<!-- dead&#45;&gt;dead -->\n",
              "<g id=\"edge21\" class=\"edge\">\n",
              "<title>dead&#45;&gt;dead</title>\n",
              "<path fill=\"none\" stroke=\"black\" d=\"M262.39,-259.61C255.82,-293.05 258.67,-332.45 270.94,-332.45 282.06,-332.45 285.45,-300.09 281.1,-269.13\"/>\n",
              "<polygon fill=\"black\" stroke=\"black\" points=\"284.09,-268.99 279.75,-261.1 278.22,-269.98 284.09,-268.99\"/>\n",
              "<text xml:space=\"preserve\" text-anchor=\"middle\" x=\"270.94\" y=\"-335.65\" font-family=\"Times,serif\" font-size=\"14.00\"> y </text>\n",
              "</g>\n",
              "<!-- q0&#45;&gt;dead -->\n",
              "<g id=\"edge4\" class=\"edge\">\n",
              "<title>q0&#45;&gt;dead</title>\n",
              "<path fill=\"none\" stroke=\"black\" d=\"M75.85,-257.7C104.88,-283.89 172.86,-336.33 224.62,-307.13 239.66,-298.65 250.27,-282.96 257.42,-268.11\"/>\n",
              "<polygon fill=\"black\" stroke=\"black\" points=\"260.1,-269.4 260.82,-260.43 254.66,-266.99 260.1,-269.4\"/>\n",
              "<text xml:space=\"preserve\" text-anchor=\"middle\" x=\"151.24\" y=\"-316.3\" font-family=\"Times,serif\" font-size=\"14.00\"> e </text>\n",
              "</g>\n",
              "<!-- q0&#45;&gt;q0 -->\n",
              "<g id=\"edge2\" class=\"edge\">\n",
              "<title>q0&#45;&gt;q0</title>\n",
              "<path fill=\"none\" stroke=\"black\" d=\"M53.74,-263.36C52.67,-273.3 55,-282.26 60.73,-282.26 64.4,-282.26 66.68,-278.58 67.56,-273.33\"/>\n",
              "<polygon fill=\"black\" stroke=\"black\" points=\"70.53,-273.42 67.7,-264.87 64.58,-273.32 70.53,-273.42\"/>\n",
              "<text xml:space=\"preserve\" text-anchor=\"middle\" x=\"60.73\" y=\"-285.46\" font-family=\"Times,serif\" font-size=\"14.00\"> letter </text>\n",
              "</g>\n",
              "<!-- q1 -->\n",
              "<g id=\"node4\" class=\"node\">\n",
              "<title>q1</title>\n",
              "<ellipse fill=\"none\" stroke=\"black\" cx=\"151.24\" cy=\"-244.13\" rx=\"20.13\" ry=\"20.13\"/>\n",
              "<text xml:space=\"preserve\" text-anchor=\"middle\" x=\"151.24\" y=\"-239.08\" font-family=\"Times,serif\" font-size=\"14.00\">q1</text>\n",
              "</g>\n",
              "<!-- q0&#45;&gt;q1 -->\n",
              "<g id=\"edge3\" class=\"edge\">\n",
              "<title>q0&#45;&gt;q1</title>\n",
              "<path fill=\"none\" stroke=\"black\" d=\"M80.94,-244.13C92.57,-244.13 107.65,-244.13 120.77,-244.13\"/>\n",
              "<polygon fill=\"black\" stroke=\"black\" points=\"120.76,-247.11 129.26,-244.13 120.76,-241.16 120.76,-247.11\"/>\n",
              "<text xml:space=\"preserve\" text-anchor=\"middle\" x=\"105.99\" y=\"-247.33\" font-family=\"Times,serif\" font-size=\"14.00\"> s </text>\n",
              "</g>\n",
              "<!-- q2 -->\n",
              "<g id=\"node5\" class=\"node\">\n",
              "<title>q2</title>\n",
              "<ellipse fill=\"none\" stroke=\"black\" cx=\"151.24\" cy=\"-104.13\" rx=\"20.13\" ry=\"20.13\"/>\n",
              "<text xml:space=\"preserve\" text-anchor=\"middle\" x=\"151.24\" y=\"-99.08\" font-family=\"Times,serif\" font-size=\"14.00\">q2</text>\n",
              "</g>\n",
              "<!-- q0&#45;&gt;q2 -->\n",
              "<g id=\"edge5\" class=\"edge\">\n",
              "<title>q0&#45;&gt;q2</title>\n",
              "<path fill=\"none\" stroke=\"black\" d=\"M72.41,-227.24C87.83,-202.86 116.43,-157.61 134.34,-129.28\"/>\n",
              "<polygon fill=\"black\" stroke=\"black\" points=\"136.69,-131.13 138.72,-122.36 131.66,-127.95 136.69,-131.13\"/>\n",
              "<text xml:space=\"preserve\" text-anchor=\"middle\" x=\"105.99\" y=\"-185.71\" font-family=\"Times,serif\" font-size=\"14.00\"> y </text>\n",
              "</g>\n",
              "<!-- q1&#45;&gt;dead -->\n",
              "<g id=\"edge6\" class=\"edge\">\n",
              "<title>q1&#45;&gt;dead</title>\n",
              "<path fill=\"none\" stroke=\"black\" d=\"M163.27,-260.48C169.79,-268.64 178.83,-277.69 189.37,-282.13 203.81,-288.21 210.3,-288.48 224.62,-282.13 233.86,-278.04 242.02,-271.03 248.78,-263.53\"/>\n",
              "<polygon fill=\"black\" stroke=\"black\" points=\"250.95,-265.56 254.09,-257.12 246.37,-261.77 250.95,-265.56\"/>\n",
              "<text xml:space=\"preserve\" text-anchor=\"middle\" x=\"207\" y=\"-289.99\" font-family=\"Times,serif\" font-size=\"14.00\"> letter </text>\n",
              "</g>\n",
              "<!-- q1&#45;&gt;dead -->\n",
              "<g id=\"edge7\" class=\"edge\">\n",
              "<title>q1&#45;&gt;dead</title>\n",
              "<path fill=\"none\" stroke=\"black\" d=\"M171.67,-244.59C186.29,-244.69 206.78,-244.33 224.62,-242.13 227.57,-241.77 230.6,-241.3 233.64,-240.77\"/>\n",
              "<polygon fill=\"black\" stroke=\"black\" points=\"233.99,-243.74 241.76,-239.19 232.85,-237.9 233.99,-243.74\"/>\n",
              "<text xml:space=\"preserve\" text-anchor=\"middle\" x=\"207\" y=\"-247.61\" font-family=\"Times,serif\" font-size=\"14.00\"> s </text>\n",
              "</g>\n",
              "<!-- q1&#45;&gt;dead -->\n",
              "<g id=\"edge9\" class=\"edge\">\n",
              "<title>q1&#45;&gt;dead</title>\n",
              "<path fill=\"none\" stroke=\"black\" d=\"M167.62,-232.22C173.99,-228.01 181.68,-223.78 189.37,-221.63 203.84,-217.59 220.2,-218.73 234.38,-221.43\"/>\n",
              "<polygon fill=\"black\" stroke=\"black\" points=\"233.39,-224.26 242.33,-223.18 234.67,-218.45 233.39,-224.26\"/>\n",
              "<text xml:space=\"preserve\" text-anchor=\"middle\" x=\"207\" y=\"-224.83\" font-family=\"Times,serif\" font-size=\"14.00\"> y </text>\n",
              "</g>\n",
              "<!-- q3 -->\n",
              "<g id=\"node6\" class=\"node\">\n",
              "<title>q3</title>\n",
              "<ellipse fill=\"none\" stroke=\"black\" cx=\"270.94\" cy=\"-24.13\" rx=\"20.13\" ry=\"20.13\"/>\n",
              "<ellipse fill=\"none\" stroke=\"black\" cx=\"270.94\" cy=\"-24.13\" rx=\"24.13\" ry=\"24.13\"/>\n",
              "<text xml:space=\"preserve\" text-anchor=\"middle\" x=\"270.94\" y=\"-19.08\" font-family=\"Times,serif\" font-size=\"14.00\">q3</text>\n",
              "</g>\n",
              "<!-- q1&#45;&gt;q3 -->\n",
              "<g id=\"edge8\" class=\"edge\">\n",
              "<title>q1&#45;&gt;q3</title>\n",
              "<path fill=\"none\" stroke=\"black\" d=\"M164.31,-228.7C171.43,-219.76 180.71,-208.39 189.37,-198.63 204.35,-181.77 212.98,-181.44 224.62,-162.13 244.43,-129.29 256.7,-86.77 263.39,-57.66\"/>\n",
              "<polygon fill=\"black\" stroke=\"black\" points=\"266.28,-58.38 265.21,-49.44 260.47,-57.1 266.28,-58.38\"/>\n",
              "<text xml:space=\"preserve\" text-anchor=\"middle\" x=\"207\" y=\"-201.83\" font-family=\"Times,serif\" font-size=\"14.00\"> e </text>\n",
              "</g>\n",
              "<!-- q2&#45;&gt;dead -->\n",
              "<g id=\"edge10\" class=\"edge\">\n",
              "<title>q2&#45;&gt;dead</title>\n",
              "<path fill=\"none\" stroke=\"black\" d=\"M169.92,-112.5C188.75,-121.71 216.88,-136.43 224.62,-145.63 239.7,-163.54 231.56,-174.5 242.62,-195.13 243.93,-197.57 245.39,-200.03 246.93,-202.46\"/>\n",
              "<polygon fill=\"black\" stroke=\"black\" points=\"244.31,-203.89 251.54,-209.26 249.23,-200.56 244.31,-203.89\"/>\n",
              "<text xml:space=\"preserve\" text-anchor=\"middle\" x=\"207\" y=\"-148.83\" font-family=\"Times,serif\" font-size=\"14.00\"> letter </text>\n",
              "</g>\n",
              "<!-- q2&#45;&gt;dead -->\n",
              "<g id=\"edge12\" class=\"edge\">\n",
              "<title>q2&#45;&gt;dead</title>\n",
              "<path fill=\"none\" stroke=\"black\" d=\"M170.76,-97.66C186.83,-93.33 209.78,-90.4 224.62,-102.63 256.94,-129.27 225.77,-156.79 242.62,-195.13 243.74,-197.67 245.05,-200.19 246.49,-202.67\"/>\n",
              "<polygon fill=\"black\" stroke=\"black\" points=\"243.83,-204.02 250.94,-209.55 248.82,-200.8 243.83,-204.02\"/>\n",
              "<text xml:space=\"preserve\" text-anchor=\"middle\" x=\"207\" y=\"-105.83\" font-family=\"Times,serif\" font-size=\"14.00\"> e </text>\n",
              "</g>\n",
              "<!-- q2&#45;&gt;dead -->\n",
              "<g id=\"edge13\" class=\"edge\">\n",
              "<title>q2&#45;&gt;dead</title>\n",
              "<path fill=\"none\" stroke=\"black\" d=\"M166.15,-90.24C181.83,-76.27 207.38,-58.76 224.62,-73.63 245.29,-91.46 232.21,-169.9 242.62,-195.13 243.68,-197.69 244.95,-200.24 246.36,-202.73\"/>\n",
              "<polygon fill=\"black\" stroke=\"black\" points=\"243.68,-204.05 250.76,-209.62 248.7,-200.86 243.68,-204.05\"/>\n",
              "<text xml:space=\"preserve\" text-anchor=\"middle\" x=\"207\" y=\"-76.83\" font-family=\"Times,serif\" font-size=\"14.00\"> y </text>\n",
              "</g>\n",
              "<!-- q2&#45;&gt;q3 -->\n",
              "<g id=\"edge11\" class=\"edge\">\n",
              "<title>q2&#45;&gt;q3</title>\n",
              "<path fill=\"none\" stroke=\"black\" d=\"M155.61,-84.11C159.91,-65.43 169.37,-38.56 189.37,-25.63 203.35,-16.6 221.73,-15.64 237.41,-17.19\"/>\n",
              "<polygon fill=\"black\" stroke=\"black\" points=\"236.93,-20.13 245.75,-18.32 237.72,-14.23 236.93,-20.13\"/>\n",
              "<text xml:space=\"preserve\" text-anchor=\"middle\" x=\"207\" y=\"-28.83\" font-family=\"Times,serif\" font-size=\"14.00\"> s </text>\n",
              "</g>\n",
              "<!-- q3&#45;&gt;q3 -->\n",
              "<g id=\"edge14\" class=\"edge\">\n",
              "<title>q3&#45;&gt;q3</title>\n",
              "<path fill=\"none\" stroke=\"black\" d=\"M267.97,-48.38C267.8,-58.1 268.79,-66.26 270.94,-66.26 272.29,-66.26 273.18,-63.07 273.62,-58.31\"/>\n",
              "<polygon fill=\"black\" stroke=\"black\" points=\"276.59,-58.48 273.88,-49.89 270.65,-58.3 276.59,-58.48\"/>\n",
              "<text xml:space=\"preserve\" text-anchor=\"middle\" x=\"270.94\" y=\"-69.46\" font-family=\"Times,serif\" font-size=\"14.00\"> letter </text>\n",
              "</g>\n",
              "<!-- q3&#45;&gt;q3 -->\n",
              "<g id=\"edge15\" class=\"edge\">\n",
              "<title>q3&#45;&gt;q3</title>\n",
              "<path fill=\"none\" stroke=\"black\" d=\"M265.69,-47.9C263.79,-65.96 265.54,-84.26 270.94,-84.26 275.38,-84.26 277.35,-71.94 276.87,-57.55\"/>\n",
              "<polygon fill=\"black\" stroke=\"black\" points=\"279.86,-57.68 276.3,-49.41 273.92,-58.09 279.86,-57.68\"/>\n",
              "<text xml:space=\"preserve\" text-anchor=\"middle\" x=\"270.94\" y=\"-87.46\" font-family=\"Times,serif\" font-size=\"14.00\"> s </text>\n",
              "</g>\n",
              "<!-- q3&#45;&gt;q3 -->\n",
              "<g id=\"edge16\" class=\"edge\">\n",
              "<title>q3&#45;&gt;q3</title>\n",
              "<path fill=\"none\" stroke=\"black\" d=\"M264.13,-47.73C259.73,-73.27 262,-102.26 270.94,-102.26 278.77,-102.26 281.49,-80.06 279.1,-57.4\"/>\n",
              "<polygon fill=\"black\" stroke=\"black\" points=\"282.08,-57.24 277.97,-49.23 276.18,-58.05 282.08,-57.24\"/>\n",
              "<text xml:space=\"preserve\" text-anchor=\"middle\" x=\"270.94\" y=\"-105.46\" font-family=\"Times,serif\" font-size=\"14.00\"> e </text>\n",
              "</g>\n",
              "<!-- q3&#45;&gt;q3 -->\n",
              "<g id=\"edge17\" class=\"edge\">\n",
              "<title>q3&#45;&gt;q3</title>\n",
              "<path fill=\"none\" stroke=\"black\" d=\"M263.07,-47.3C255.64,-79.96 258.27,-120.26 270.94,-120.26 282.38,-120.26 285.64,-87.45 280.71,-57.04\"/>\n",
              "<polygon fill=\"black\" stroke=\"black\" points=\"283.64,-56.57 279.11,-48.79 277.8,-57.7 283.64,-56.57\"/>\n",
              "<text xml:space=\"preserve\" text-anchor=\"middle\" x=\"270.94\" y=\"-123.46\" font-family=\"Times,serif\" font-size=\"14.00\"> y </text>\n",
              "</g>\n",
              "</g>\n",
              "</svg>\n"
            ],
            "text/plain": [
              "<graphviz.graphs.Digraph at 0x10f5fb520>"
            ]
          },
          "execution_count": 8,
          "metadata": {},
          "output_type": "execute_result"
        }
      ],
      "source": [
        "from visual_automata.fa.dfa import VisualDFA\n",
        "\n",
        "states = {\"q0\", \"q1\", \"q2\", \"q3\", \"dead\"}\n",
        "input_symbols = {\"letter\", \"s\", \"e\", \"y\"}\n",
        "\n",
        "transitions = {\n",
        "    \"q0\": {\"letter\": \"q0\", \"s\": \"q1\", \"e\": \"dead\", \"y\": \"q2\"},\n",
        "    \"q1\": {\"letter\": \"dead\", \"s\": \"dead\", \"e\": \"q3\", \"y\": \"dead\"},\n",
        "    \"q2\": {\"letter\": \"dead\", \"s\": \"q3\", \"e\": \"dead\", \"y\": \"dead\"},\n",
        "    \"q3\": {\"letter\": \"q3\", \"s\": \"q3\", \"e\": \"q3\", \"y\": \"q3\"},\n",
        "    \"dead\": {\"letter\": \"dead\", \"s\": \"dead\", \"e\": \"dead\", \"y\": \"dead\"}\n",
        "}\n",
        "\n",
        "dfa = VisualDFA(\n",
        "    states=states,\n",
        "    input_symbols=input_symbols,\n",
        "    transitions=transitions,\n",
        "    initial_state=\"q0\",\n",
        "    final_states={\"q3\"}\n",
        ")\n",
        "\n",
        "dfa.show_diagram(filename=\"fst_dfa.png\", input_str=\"\")"
      ]
    },
    {
      "cell_type": "code",
      "execution_count": null,
      "metadata": {},
      "outputs": [
        {
          "name": "stdout",
          "output_type": "stream",
          "text": [
            "Saved FST diagram to fst.png\n"
          ]
        },
        {
          "data": {
            "image/png": "[encoded data removed]",
            "text/plain": [
              "<IPython.core.display.Image object>"
            ]
          },
          "metadata": {},
          "output_type": "display_data"
        }
      ],
      "source": [
        "\n",
        "from graphviz import Digraph\n",
        "from IPython.display import Image, display\n",
        "\n",
        "states = {\"q0\", \"q1\", \"q2\", \"q3\", \"dead\"}\n",
        "input_symbols = {\"letter\", \"s\", \"e\", \"y\"}\n",
        "output_symbols = {\"L\", \"S\", \"E\", \"Y\"}\n",
        "\n",
        "transitions = [\n",
        "    (\"q0\", \"letter\", \"L\", \"q0\"),\n",
        "    (\"q0\", \"s\", \"S\", \"q1\"),\n",
        "    (\"q0\", \"e\", \"E\", \"dead\"),\n",
        "    (\"q0\", \"y\", \"Y\", \"q2\"),\n",
        "\n",
        "    (\"q1\", \"e\", \"E\", \"q3\"),\n",
        "    (\"q2\", \"s\", \"S\", \"q3\"),\n",
        "\n",
        "    (\"q3\", \"letter\", \"L\", \"q3\"),\n",
        "    (\"q3\", \"s\", \"S\", \"q3\"),\n",
        "    (\"q3\", \"e\", \"E\", \"q3\"),\n",
        "    (\"q3\", \"y\", \"Y\", \"q3\"),\n",
        "]\n",
        "\n",
        "dot = Digraph('FST', format='png')\n",
        "dot.attr(rankdir='LR')\n",
        "\n",
        "# states\n",
        "for s in states:\n",
        "    shape = 'doublecircle' if s in {'q3'} else 'circle'\n",
        "    dot.node(s, shape=shape)\n",
        "\n",
        "# initial arrow\n",
        "dot.node('', shape='none')\n",
        "dot.edge('', 'q0')\n",
        "\n",
        "# transitions with input/output labels\n",
        "for src, inp, out, dst in transitions:\n",
        "    dot.edge(src, dst, label=f'{inp}/{out}')\n",
        "\n",
        "output_path = dot.render(filename='fst', cleanup=True)\n",
        "print(f\"Saved FST diagram to {output_path}\")\n",
        "display(Image(filename=output_path))"
      ]
    },
    {
      "cell_type": "code",
      "execution_count": null,
      "metadata": {
        "id": "jgfEyUHzRSvA"
      },
      "outputs": [],
      "source": []
    }
  ],
  "metadata": {
    "colab": {
      "provenance": []
    },
    "kernelspec": {
      "display_name": "Python 3",
      "name": "python3"
    },
    "language_info": {
      "codemirror_mode": {
        "name": "ipython",
        "version": 3
      },
      "file_extension": ".py",
      "mimetype": "text/x-python",
      "name": "python",
      "nbconvert_exporter": "python",
      "pygments_lexer": "ipython3",
      "version": "3.10.13"
    }
  },
  "nbformat": 4,
  "nbformat_minor": 0
}
