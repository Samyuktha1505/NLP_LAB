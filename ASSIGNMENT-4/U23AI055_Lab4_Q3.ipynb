{
  "cells": [
    {
      "cell_type": "code",
      "execution_count": 1,
      "metadata": {
        "id": "ECXbwgLfNYjs"
      },
      "outputs": [
        {
          "name": "stderr",
          "output_type": "stream",
          "text": [
            "/Users/kummarisamyuktha/.pyenv/versions/3.10.13/lib/python3.10/site-packages/tqdm/auto.py:21: TqdmWarning: IProgress not found. Please update jupyter and ipywidgets. See https://ipywidgets.readthedocs.io/en/stable/user_install.html\n",
            "  from .autonotebook import tqdm as notebook_tqdm\n"
          ]
        }
      ],
      "source": [
        "from datasets import load_dataset\n",
        "import re\n",
        "from collections import Counter, defaultdict\n",
        "from nltk.util import ngrams\n",
        "import itertools"
      ]
    },
    {
      "cell_type": "code",
      "execution_count": 2,
      "metadata": {
        "colab": {
          "base_uri": "https://localhost:8080/",
          "height": 173,
          "referenced_widgets": [
            "b178b97cd7e049ed9ff8bf3019d2ff30",
            "6fbaaa256d6c435cbd356f727108bce7",
            "575901e006da480fad1f6928315a9bf2",
            "b598744ede3f43c0adbeb380eb7b56cc",
            "6e59babed99b4e05a07c3f70b89cc754",
            "c1c035f03b844757b59145021ef25c64",
            "1a2c075a887e430bbfb1c9e596b07ac7",
            "4ca5fcacbc7747eb9ac2d65677bf7aac",
            "f0b8be4dd38f4b2585ea072fea124e98",
            "e465327686c4465ca13058a4507f5b1e",
            "739c37f16e98409cae4516691fda6893"
          ]
        },
        "id": "JIBWmJdWN46j",
        "outputId": "f2ae8308-0a21-49de-e619-e22f1b25e5d8"
      },
      "outputs": [],
      "source": [
        "dataset = load_dataset(\"ai4bharat/IndicCorpV2\", \"indiccorp_v2\", streaming=True, split=\"tel_Telu\")"
      ]
    },
    {
      "cell_type": "code",
      "execution_count": 3,
      "metadata": {
        "id": "yzrxQSdjN-hl"
      },
      "outputs": [],
      "source": [
        "def telugu_sentence_tokenizer(text):\n",
        "    return re.split(r'(?<=[।!?॥.])\\s+', text)\n",
        "\n",
        "def telugu_word_tokenizer(text):\n",
        "    url = r'https?://\\S+'\n",
        "    email = r'\\b[\\w\\.-]+@[\\w\\.-]+\\.\\w+\\b'\n",
        "    date = r'\\b\\d{1,2}[/-]\\d{1,2}[/-]\\d{2,4}\\b'\n",
        "    decimal = r'\\b\\d+\\.\\d+\\b'\n",
        "    number = r'\\b\\d+\\b'\n",
        "    telugu = r'[\\u0C00-\\u0C7F]+'\n",
        "    english = r'[a-zA-Z]+'\n",
        "    punctuation = r'[.,!?;:\"(){}\\[\\]<>|/@#$%^&*_+=~`\\'“”‘’₹…-]'\n",
        "\n",
        "    pattern = f'{url}|{email}|{date}|{decimal}|{number}|{telugu}|{english}|{punctuation}'\n",
        "    return re.findall(pattern, text)"
      ]
    },
    {
      "cell_type": "code",
      "execution_count": 4,
      "metadata": {
        "colab": {
          "base_uri": "https://localhost:8080/"
        },
        "id": "Rf_B0pPjODxF",
        "outputId": "dc5cf2ba-ad5e-4fb4-b2d6-c1bcf00adbc2"
      },
      "outputs": [
        {
          "name": "stdout",
          "output_type": "stream",
          "text": [
            "\n",
            "Finished counting n-grams!\n",
            "Total unique unigrams: 8,277\n",
            "Total unique bigrams:  17,031\n"
          ]
        }
      ],
      "source": [
        "DOC_LIMIT = 1000\n",
        "TRAIN_LIMIT = 990\n",
        "\n",
        "unigram_counts = Counter()\n",
        "bigram_counts = Counter()\n",
        "\n",
        "dataset_subset = itertools.islice(dataset,TRAIN_LIMIT)\n",
        "\n",
        "for i,item in enumerate(dataset_subset):\n",
        "  text = item['text']\n",
        "  sentences = telugu_sentence_tokenizer(text)\n",
        "\n",
        "  for sentence in sentences:\n",
        "    tokens = telugu_word_tokenizer(sentence)\n",
        "\n",
        "    if not tokens:\n",
        "      continue\n",
        "\n",
        "    unigram_padded = ['<s>'] + tokens + ['</s>']\n",
        "    unigram_counts.update(ngrams(unigram_padded,1))\n",
        "\n",
        "    bigram_padded = ['<s>'] * 1 + tokens + ['</s>'] * 1\n",
        "    bigram_counts.update(ngrams(bigram_padded,2))\n",
        "\n",
        "print(\"\\nFinished counting n-grams!\")\n",
        "print(f\"Total unique unigrams: {len(unigram_counts):,}\")\n",
        "print(f\"Total unique bigrams:  {len(bigram_counts):,}\")"
      ]
    },
    {
      "cell_type": "code",
      "execution_count": 5,
      "metadata": {
        "id": "glzkan50ORcA"
      },
      "outputs": [],
      "source": [
        "def calculated_add_one(bigram,bigram_counts,unigram_counts, V):\n",
        "  prefix = (bigram[0],)\n",
        "  numerator = bigram_counts.get(bigram, 0) + 1\n",
        "  denominator = unigram_counts.get(prefix, 0) + V\n",
        "  return numerator / denominator\n",
        "\n",
        "def calculated_add_k(bigram, bigram_counts, unigram_counts, V, k):\n",
        "  prefix = (bigram[0],)\n",
        "  numerator = bigram_counts.get(bigram, 0) + k\n",
        "  denominator = unigram_counts.get(prefix, 0) + (k * V)\n",
        "  return numerator / denominator\n",
        "\n",
        "def calculate_add_token_type(bigram, bigram_counts, unigram_counts, V):\n",
        "    prefix = (bigram[0],)\n",
        "    numerator = bigram_counts.get(bigram, 0) + V\n",
        "    denominator = unigram_counts.get(prefix, 0) + (V * V)\n",
        "    if denominator == 0:\n",
        "        return 0\n",
        "    return numerator / denominator"
      ]
    },
    {
      "cell_type": "code",
      "execution_count": 6,
      "metadata": {
        "id": "HmR5H9qoO1tk"
      },
      "outputs": [],
      "source": [
        "from urllib.request import proxy_bypass\n",
        "V = len(unigram_counts)\n",
        "k = 0.1\n",
        "\n",
        "remaining_docs = itertools.islice(dataset,TRAIN_LIMIT,DOC_LIMIT)\n",
        "\n",
        "sentence_probs = []\n",
        "\n",
        "for item in remaining_docs:\n",
        "  text = item['text']\n",
        "  sentences = telugu_sentence_tokenizer(text)\n",
        "\n",
        "  for sentence in sentences:\n",
        "    tokens = telugu_word_tokenizer(sentence)\n",
        "    if not tokens:\n",
        "      continue\n",
        "\n",
        "    padded_tokens = ['<s>', '<s>', '<s>'] + tokens + ['</s>']\n",
        "    bigrams = list(ngrams(padded_tokens,2))\n",
        "\n",
        "    prob_add_one = 1\n",
        "    prob_add_k = 1\n",
        "    prob_token_type = 1\n",
        "\n",
        "    for bg in bigrams:\n",
        "      prob_add_one *= calculated_add_one(bg, bigram_counts, unigram_counts, V)\n",
        "      prob_add_k *= calculated_add_k(bg, bigram_counts, unigram_counts, V, k)\n",
        "      prob_token_type *= calculate_add_token_type(bg, bigram_counts, unigram_counts, V)\n",
        "\n",
        "    sentence_probs.append({\n",
        "        \"sentence\" : sentence,\n",
        "        \"add_one\" : prob_add_one,\n",
        "        \"add_k\" : prob_add_k,\n",
        "        \"add_token_type\" : prob_token_type\n",
        "    })"
      ]
    },
    {
      "cell_type": "code",
      "execution_count": 7,
      "metadata": {
        "colab": {
          "base_uri": "https://localhost:8080/"
        },
        "id": "8maXa7IbAOie",
        "outputId": "41c4c436-c0b3-488f-9474-886240424ea7"
      },
      "outputs": [
        {
          "name": "stdout",
          "output_type": "stream",
          "text": [
            "Sentence: 1.\n",
            "Add-One Prob: 1.1064344678686987e-16\n",
            "Add-k Prob: 8.984097822469902e-16\n",
            "Add-Token-Type Prob: 3.067881105950275e-20\n",
            "\n",
            "Sentence: ఫిర్ నూనె.\n",
            "Add-One Prob: 2.229275271489771e-21\n",
            "Add-k Prob: 4.727144307255056e-22\n",
            "Add-Token-Type Prob: 3.7051705801030824e-24\n",
            "\n",
            "Sentence: ఇది ఒక చిన్న మొత్తంలో ప్రభావిత ప్రాంతం వర్తింప చేయాలి.\n",
            "Add-One Prob: 1.6487628464848099e-43\n",
            "Add-k Prob: 1.6407583783686973e-42\n",
            "Add-Token-Type Prob: 1.1539825670649588e-47\n",
            "\n",
            "Sentence: ఈ సాధనం వేగంగా మంట తొలగించడానికి సహాయపడుతుంది.\n",
            "Add-One Prob: 1.2078529098592325e-34\n",
            "Add-k Prob: 1.4393039451899222e-33\n",
            "Add-Token-Type Prob: 7.97827631292114e-40\n",
            "\n",
            "Sentence: - ఇది సక్సెస్ అయ్యాక మీ రిక్వెస్ట్ (మొబైల్ నెంబర్ చేంజ్) పూర్తవుతుంది.\n",
            "Add-One Prob: 1.1501365169409796e-59\n",
            "Add-k Prob: 1.7063564420327652e-59\n",
            "Add-Token-Type Prob: 2.457221822947555e-63\n",
            "\n"
          ]
        }
      ],
      "source": [
        "for i in range(min(5, len(sentence_probs))):\n",
        "    print(f\"Sentence: {sentence_probs[i]['sentence']}\")\n",
        "    print(f\"Add-One Prob: {sentence_probs[i]['add_one']}\")\n",
        "    print(f\"Add-k Prob: {sentence_probs[i]['add_k']}\")\n",
        "    print(f\"Add-Token-Type Prob: {sentence_probs[i]['add_token_type']}\\n\")"
      ]
    },
    {
      "cell_type": "code",
      "execution_count": null,
      "metadata": {
        "id": "XnhWnT9yARzj"
      },
      "outputs": [],
      "source": []
    }
  ],
  "metadata": {
    "colab": {
      "provenance": []
    },
    "kernelspec": {
      "display_name": "Python 3",
      "name": "python3"
    },
    "language_info": {
      "codemirror_mode": {
        "name": "ipython",
        "version": 3
      },
      "file_extension": ".py",
      "mimetype": "text/x-python",
      "name": "python",
      "nbconvert_exporter": "python",
      "pygments_lexer": "ipython3",
      "version": "3.10.13"
    },
    "widgets": {
      "application/vnd.jupyter.widget-state+json": {
        "1a2c075a887e430bbfb1c9e596b07ac7": {
          "model_module": "@jupyter-widgets/controls",
          "model_module_version": "1.5.0",
          "model_name": "DescriptionStyleModel",
          "state": {
            "_model_module": "@jupyter-widgets/controls",
            "_model_module_version": "1.5.0",
            "_model_name": "DescriptionStyleModel",
            "_view_count": null,
            "_view_module": "@jupyter-widgets/base",
            "_view_module_version": "1.2.0",
            "_view_name": "StyleView",
            "description_width": ""
          }
        },
        "4ca5fcacbc7747eb9ac2d65677bf7aac": {
          "model_module": "@jupyter-widgets/base",
          "model_module_version": "1.2.0",
          "model_name": "LayoutModel",
          "state": {
            "_model_module": "@jupyter-widgets/base",
            "_model_module_version": "1.2.0",
            "_model_name": "LayoutModel",
            "_view_count": null,
            "_view_module": "@jupyter-widgets/base",
            "_view_module_version": "1.2.0",
            "_view_name": "LayoutView",
            "align_content": null,
            "align_items": null,
            "align_self": null,
            "border": null,
            "bottom": null,
            "display": null,
            "flex": null,
            "flex_flow": null,
            "grid_area": null,
            "grid_auto_columns": null,
            "grid_auto_flow": null,
            "grid_auto_rows": null,
            "grid_column": null,
            "grid_gap": null,
            "grid_row": null,
            "grid_template_areas": null,
            "grid_template_columns": null,
            "grid_template_rows": null,
            "height": null,
            "justify_content": null,
            "justify_items": null,
            "left": null,
            "margin": null,
            "max_height": null,
            "max_width": null,
            "min_height": null,
            "min_width": null,
            "object_fit": null,
            "object_position": null,
            "order": null,
            "overflow": null,
            "overflow_x": null,
            "overflow_y": null,
            "padding": null,
            "right": null,
            "top": null,
            "visibility": null,
            "width": "20px"
          }
        },
        "575901e006da480fad1f6928315a9bf2": {
          "model_module": "@jupyter-widgets/controls",
          "model_module_version": "1.5.0",
          "model_name": "FloatProgressModel",
          "state": {
            "_dom_classes": [],
            "_model_module": "@jupyter-widgets/controls",
            "_model_module_version": "1.5.0",
            "_model_name": "FloatProgressModel",
            "_view_count": null,
            "_view_module": "@jupyter-widgets/controls",
            "_view_module_version": "1.5.0",
            "_view_name": "ProgressView",
            "bar_style": "success",
            "description": "",
            "description_tooltip": null,
            "layout": "IPY_MODEL_4ca5fcacbc7747eb9ac2d65677bf7aac",
            "max": 1,
            "min": 0,
            "orientation": "horizontal",
            "style": "IPY_MODEL_f0b8be4dd38f4b2585ea072fea124e98",
            "value": 1
          }
        },
        "6e59babed99b4e05a07c3f70b89cc754": {
          "model_module": "@jupyter-widgets/base",
          "model_module_version": "1.2.0",
          "model_name": "LayoutModel",
          "state": {
            "_model_module": "@jupyter-widgets/base",
            "_model_module_version": "1.2.0",
            "_model_name": "LayoutModel",
            "_view_count": null,
            "_view_module": "@jupyter-widgets/base",
            "_view_module_version": "1.2.0",
            "_view_name": "LayoutView",
            "align_content": null,
            "align_items": null,
            "align_self": null,
            "border": null,
            "bottom": null,
            "display": null,
            "flex": null,
            "flex_flow": null,
            "grid_area": null,
            "grid_auto_columns": null,
            "grid_auto_flow": null,
            "grid_auto_rows": null,
            "grid_column": null,
            "grid_gap": null,
            "grid_row": null,
            "grid_template_areas": null,
            "grid_template_columns": null,
            "grid_template_rows": null,
            "height": null,
            "justify_content": null,
            "justify_items": null,
            "left": null,
            "margin": null,
            "max_height": null,
            "max_width": null,
            "min_height": null,
            "min_width": null,
            "object_fit": null,
            "object_position": null,
            "order": null,
            "overflow": null,
            "overflow_x": null,
            "overflow_y": null,
            "padding": null,
            "right": null,
            "top": null,
            "visibility": null,
            "width": null
          }
        },
        "6fbaaa256d6c435cbd356f727108bce7": {
          "model_module": "@jupyter-widgets/controls",
          "model_module_version": "1.5.0",
          "model_name": "HTMLModel",
          "state": {
            "_dom_classes": [],
            "_model_module": "@jupyter-widgets/controls",
            "_model_module_version": "1.5.0",
            "_model_name": "HTMLModel",
            "_view_count": null,
            "_view_module": "@jupyter-widgets/controls",
            "_view_module_version": "1.5.0",
            "_view_name": "HTMLView",
            "description": "",
            "description_tooltip": null,
            "layout": "IPY_MODEL_c1c035f03b844757b59145021ef25c64",
            "placeholder": "​",
            "style": "IPY_MODEL_1a2c075a887e430bbfb1c9e596b07ac7",
            "value": "README.md: "
          }
        },
        "739c37f16e98409cae4516691fda6893": {
          "model_module": "@jupyter-widgets/controls",
          "model_module_version": "1.5.0",
          "model_name": "DescriptionStyleModel",
          "state": {
            "_model_module": "@jupyter-widgets/controls",
            "_model_module_version": "1.5.0",
            "_model_name": "DescriptionStyleModel",
            "_view_count": null,
            "_view_module": "@jupyter-widgets/base",
            "_view_module_version": "1.2.0",
            "_view_name": "StyleView",
            "description_width": ""
          }
        },
        "b178b97cd7e049ed9ff8bf3019d2ff30": {
          "model_module": "@jupyter-widgets/controls",
          "model_module_version": "1.5.0",
          "model_name": "HBoxModel",
          "state": {
            "_dom_classes": [],
            "_model_module": "@jupyter-widgets/controls",
            "_model_module_version": "1.5.0",
            "_model_name": "HBoxModel",
            "_view_count": null,
            "_view_module": "@jupyter-widgets/controls",
            "_view_module_version": "1.5.0",
            "_view_name": "HBoxView",
            "box_style": "",
            "children": [
              "IPY_MODEL_6fbaaa256d6c435cbd356f727108bce7",
              "IPY_MODEL_575901e006da480fad1f6928315a9bf2",
              "IPY_MODEL_b598744ede3f43c0adbeb380eb7b56cc"
            ],
            "layout": "IPY_MODEL_6e59babed99b4e05a07c3f70b89cc754"
          }
        },
        "b598744ede3f43c0adbeb380eb7b56cc": {
          "model_module": "@jupyter-widgets/controls",
          "model_module_version": "1.5.0",
          "model_name": "HTMLModel",
          "state": {
            "_dom_classes": [],
            "_model_module": "@jupyter-widgets/controls",
            "_model_module_version": "1.5.0",
            "_model_name": "HTMLModel",
            "_view_count": null,
            "_view_module": "@jupyter-widgets/controls",
            "_view_module_version": "1.5.0",
            "_view_name": "HTMLView",
            "description": "",
            "description_tooltip": null,
            "layout": "IPY_MODEL_e465327686c4465ca13058a4507f5b1e",
            "placeholder": "​",
            "style": "IPY_MODEL_739c37f16e98409cae4516691fda6893",
            "value": " 4.01k/? [00:00&lt;00:00, 254kB/s]"
          }
        },
        "c1c035f03b844757b59145021ef25c64": {
          "model_module": "@jupyter-widgets/base",
          "model_module_version": "1.2.0",
          "model_name": "LayoutModel",
          "state": {
            "_model_module": "@jupyter-widgets/base",
            "_model_module_version": "1.2.0",
            "_model_name": "LayoutModel",
            "_view_count": null,
            "_view_module": "@jupyter-widgets/base",
            "_view_module_version": "1.2.0",
            "_view_name": "LayoutView",
            "align_content": null,
            "align_items": null,
            "align_self": null,
            "border": null,
            "bottom": null,
            "display": null,
            "flex": null,
            "flex_flow": null,
            "grid_area": null,
            "grid_auto_columns": null,
            "grid_auto_flow": null,
            "grid_auto_rows": null,
            "grid_column": null,
            "grid_gap": null,
            "grid_row": null,
            "grid_template_areas": null,
            "grid_template_columns": null,
            "grid_template_rows": null,
            "height": null,
            "justify_content": null,
            "justify_items": null,
            "left": null,
            "margin": null,
            "max_height": null,
            "max_width": null,
            "min_height": null,
            "min_width": null,
            "object_fit": null,
            "object_position": null,
            "order": null,
            "overflow": null,
            "overflow_x": null,
            "overflow_y": null,
            "padding": null,
            "right": null,
            "top": null,
            "visibility": null,
            "width": null
          }
        },
        "e465327686c4465ca13058a4507f5b1e": {
          "model_module": "@jupyter-widgets/base",
          "model_module_version": "1.2.0",
          "model_name": "LayoutModel",
          "state": {
            "_model_module": "@jupyter-widgets/base",
            "_model_module_version": "1.2.0",
            "_model_name": "LayoutModel",
            "_view_count": null,
            "_view_module": "@jupyter-widgets/base",
            "_view_module_version": "1.2.0",
            "_view_name": "LayoutView",
            "align_content": null,
            "align_items": null,
            "align_self": null,
            "border": null,
            "bottom": null,
            "display": null,
            "flex": null,
            "flex_flow": null,
            "grid_area": null,
            "grid_auto_columns": null,
            "grid_auto_flow": null,
            "grid_auto_rows": null,
            "grid_column": null,
            "grid_gap": null,
            "grid_row": null,
            "grid_template_areas": null,
            "grid_template_columns": null,
            "grid_template_rows": null,
            "height": null,
            "justify_content": null,
            "justify_items": null,
            "left": null,
            "margin": null,
            "max_height": null,
            "max_width": null,
            "min_height": null,
            "min_width": null,
            "object_fit": null,
            "object_position": null,
            "order": null,
            "overflow": null,
            "overflow_x": null,
            "overflow_y": null,
            "padding": null,
            "right": null,
            "top": null,
            "visibility": null,
            "width": null
          }
        },
        "f0b8be4dd38f4b2585ea072fea124e98": {
          "model_module": "@jupyter-widgets/controls",
          "model_module_version": "1.5.0",
          "model_name": "ProgressStyleModel",
          "state": {
            "_model_module": "@jupyter-widgets/controls",
            "_model_module_version": "1.5.0",
            "_model_name": "ProgressStyleModel",
            "_view_count": null,
            "_view_module": "@jupyter-widgets/base",
            "_view_module_version": "1.2.0",
            "_view_name": "StyleView",
            "bar_color": null,
            "description_width": ""
          }
        }
      }
    }
  },
  "nbformat": 4,
  "nbformat_minor": 0
}
