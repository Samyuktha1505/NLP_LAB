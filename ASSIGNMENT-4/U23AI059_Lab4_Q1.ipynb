{
  "cells": [
    {
      "cell_type": "code",
      "execution_count": 6,
      "metadata": {
        "id": "R8hm8_p_7rHC"
      },
      "outputs": [],
      "source": [
        "from datasets import load_dataset\n",
        "import re\n",
        "from collections import Counter, defaultdict\n",
        "from nltk.util import ngrams\n",
        "import itertools"
      ]
    },
    {
      "cell_type": "code",
      "execution_count": 7,
      "metadata": {
        "colab": {
          "base_uri": "https://localhost:8080/",
          "height": 225,
          "referenced_widgets": [
            "2321a158aa0d4108a719102e52abe66b",
            "910f7539935d44dfa0eace4e54316db6",
            "b448720afccd4c36924505618a566759",
            "064475c14e944850ad1c522077b07ce2",
            "0f9db5abc95543a6b89a9404792ca57c",
            "fb66984131a649c5b666b925d32c5821",
            "d7caa42474d9417998a52931525af9a1",
            "2c8f240794d04593b93e9520c7f96e51",
            "b9fdcc85a9144bac80273263451f2489",
            "53a4a006193441a98123f0f916c9bc3f",
            "e09ae5b7390345c6a05fb96fddacdb36"
          ]
        },
        "id": "F2Qofb4L8Ok7",
        "outputId": "135a92fa-e3cf-4781-e8ae-b869d9efb114"
      },
      "outputs": [
        {
          "name": "stdout",
          "output_type": "stream",
          "text": [
            "\n",
            "Sample Text : \n",
            "అమెరికా అధ్యక్షుడు డొనాల్డ్ ట్రంప్ కు రాష్ట్రపతి  భవన్ వద్ద ఘనస్వాగతం లభించింది. ఆయనకు రాష్ట్రపతి రామ్ నాథ్ కోవింద్ దంపతులు, ప్రధాని మోదీ సాదరంగా ఆహ్వానం పలకడంతో పాటు సైనికులు గౌరవ వందనాన్ని అందించారు.\n"
          ]
        }
      ],
      "source": [
        "dataset = load_dataset(\"ai4bharat/IndicCorpV2\", \"indiccorp_v2\", streaming=True, split=\"tel_Telu\")\n",
        "\n",
        "sample = next(iter(dataset))\n",
        "print(\"\\nSample Text : \")\n",
        "print(sample['text'])"
      ]
    },
    {
      "cell_type": "code",
      "execution_count": 8,
      "metadata": {
        "id": "mZ-OwxRt8jfO"
      },
      "outputs": [],
      "source": [
        "def telugu_sentence_tokenizer(text):\n",
        "    return re.split(r'(?<=[।!?॥.])\\s+', text)\n",
        "\n",
        "def telugu_word_tokenizer(text):\n",
        "    url = r'https?://\\S+'\n",
        "    email = r'\\b[\\w\\.-]+@[\\w\\.-]+\\.\\w+\\b'\n",
        "    date = r'\\b\\d{1,2}[/-]\\d{1,2}[/-]\\d{2,4}\\b'\n",
        "    decimal = r'\\b\\d+\\.\\d+\\b'\n",
        "    number = r'\\b\\d+\\b'\n",
        "    telugu = r'[\\u0C00-\\u0C7F]+'\n",
        "    english = r'[a-zA-Z]+'\n",
        "    punctuation = r'[.,!?;:\"(){}\\[\\]<>|/@#$%^&*_+=~`\\'“”‘’₹…-]'\n",
        "\n",
        "    pattern = f'{url}|{email}|{date}|{decimal}|{number}|{telugu}|{english}|{punctuation}'\n",
        "    return re.findall(pattern, text)"
      ]
    },
    {
      "cell_type": "code",
      "execution_count": 9,
      "metadata": {
        "colab": {
          "base_uri": "https://localhost:8080/"
        },
        "id": "OqzxH0Ez80zX",
        "outputId": "865bd065-04ea-4a82-e4b1-1dce1a089511"
      },
      "outputs": [
        {
          "name": "stdout",
          "output_type": "stream",
          "text": [
            "\n",
            "Finished counting n-grams!\n",
            "Total unique unigrams: 314,285\n",
            "Total unique bigrams:  2,093,326\n",
            "Total unique trigrams: 3,286,149\n",
            "Total unique quadrigrams: 3,824,965\n"
          ]
        }
      ],
      "source": [
        "DOC_LIMIT = 200000 # Limit for the number of documents to process.\n",
        "\n",
        "# Initialize counters for each n-gram level\n",
        "unigram_counts = Counter()\n",
        "bigram_counts = Counter()\n",
        "trigram_counts = Counter()\n",
        "quadrigram_counts = Counter()\n",
        "\n",
        "dataset_subset = itertools.islice(dataset,DOC_LIMIT)\n",
        "\n",
        "for i,item in enumerate(dataset_subset):\n",
        "  text = item['text']\n",
        "  sentences = telugu_sentence_tokenizer(text)\n",
        "\n",
        "  for sentence in sentences:\n",
        "    tokens = telugu_word_tokenizer(sentence)\n",
        "\n",
        "    if not tokens:\n",
        "      continue\n",
        "\n",
        "    # Add padding tokens for the models. We add n-1 start tokens,\n",
        "    # where n is the size of our largest model (4 for Quadrigram).\n",
        "    # We also add one end token.\n",
        "    # padded_tokens = ['<s>', '<s>', '<s>'] + tokens + ['</s>']\n",
        "\n",
        "    # unigram_counts.update(ngrams(padded_tokens,1))\n",
        "    # bigram_counts.update(ngrams(padded_tokens,2))\n",
        "    # trigram_counts.update(ngrams(padded_tokens,3))\n",
        "    # quadrigram_counts.update(ngrams(padded_tokens,4))\n",
        "\n",
        "    unigram_padded = ['<s>'] + tokens + ['</s>']\n",
        "    unigram_counts.update(ngrams(unigram_padded,1))\n",
        "\n",
        "    bigram_padded = ['<s>'] * 1 + tokens + ['</s>'] * 1\n",
        "    bigram_counts.update(ngrams(bigram_padded,2))\n",
        "\n",
        "    trigram_padded = ['<s>'] * 3 + tokens + ['</s>'] * 2\n",
        "    trigram_counts.update(ngrams(trigram_padded,3))\n",
        "\n",
        "    quadrigram_padded = ['<s>'] * 3 + tokens + ['</s>'] * 3\n",
        "    quadrigram_counts.update(ngrams(quadrigram_padded,4))\n",
        "\n",
        "print(\"\\nFinished counting n-grams!\")\n",
        "print(f\"Total unique unigrams: {len(unigram_counts):,}\")\n",
        "print(f\"Total unique bigrams:  {len(bigram_counts):,}\")\n",
        "print(f\"Total unique trigrams: {len(trigram_counts):,}\")\n",
        "print(f\"Total unique quadrigrams: {len(quadrigram_counts):,}\")\n",
        "\n",
        "# Finished counting n-grams! # without extra ending\n",
        "# Total unique unigrams: 314,285\n",
        "# Total unique bigrams:  2,093,327\n",
        "# Total unique trigrams: 3,276,969\n",
        "# Total unique quadrigrams: 3,748,629"
      ]
    },
    {
      "cell_type": "code",
      "execution_count": 10,
      "metadata": {
        "colab": {
          "base_uri": "https://localhost:8080/"
        },
        "id": "lJPjMKgu-0Zr",
        "outputId": "0c8b4ebc-ad9c-40eb-fecc-72e32a2369c0"
      },
      "outputs": [
        {
          "name": "stdout",
          "output_type": "stream",
          "text": [
            "\n",
            "Example probability: P(మేరకు | ఈ) = 0.014012\n"
          ]
        }
      ],
      "source": [
        "from ast import If\n",
        "unigram_model = defaultdict(float)\n",
        "bigram_model = defaultdict(float)\n",
        "trigram_model = defaultdict(float)\n",
        "quadrigram_model = defaultdict(float)\n",
        "\n",
        "# Unigram Model\n",
        "total_tokens = sum(unigram_counts.values())\n",
        "for unigram, count in unigram_counts.items():\n",
        "  unigram_model[unigram] = count / total_tokens\n",
        "\n",
        "# Bigram Model\n",
        "for bigram, count in bigram_counts.items():\n",
        "  prefix = bigram[0:1]\n",
        "  prefix_count = unigram_counts[prefix]\n",
        "\n",
        "  if prefix_count > 0:\n",
        "    bigram_model[bigram] = count / prefix_count\n",
        "\n",
        "# Trigram Model\n",
        "for trigram, count in trigram_counts.items():\n",
        "  prefix = trigram[0:2]\n",
        "  prefix_count = bigram_counts[prefix]\n",
        "\n",
        "  if prefix_count > 0:\n",
        "    trigram_model[trigram] = count / prefix_count\n",
        "\n",
        "# Quadrigram Model\n",
        "for quadrigram, count in quadrigram_counts.items():\n",
        "  prefix = quadrigram[0:3]\n",
        "  prefix_count = trigram_counts[prefix]\n",
        "\n",
        "  if prefix_count > 0:\n",
        "    quadrigram_model[quadrigram] = count / prefix_count\n",
        "\n",
        "# We will find a common bigram starting with 'ఈ'\n",
        "for bg in bigram_model:\n",
        "  if bg[0] == 'ఈ':\n",
        "    print(f\"\\nExample probability: P({bg[1]} | {bg[0]}) = {bigram_model[bg]:.6f}\")\n",
        "    break"
      ]
    },
    {
      "cell_type": "code",
      "execution_count": null,
      "metadata": {
        "id": "Jv5rRfq_D_Ey"
      },
      "outputs": [],
      "source": []
    }
  ],
  "metadata": {
    "colab": {
      "provenance": []
    },
    "kernelspec": {
      "display_name": "Python 3",
      "name": "python3"
    },
    "language_info": {
      "codemirror_mode": {
        "name": "ipython",
        "version": 3
      },
      "file_extension": ".py",
      "mimetype": "text/x-python",
      "name": "python",
      "nbconvert_exporter": "python",
      "pygments_lexer": "ipython3",
      "version": "3.10.13"
    },
    "widgets": {
      "application/vnd.jupyter.widget-state+json": {
        "064475c14e944850ad1c522077b07ce2": {
          "model_module": "@jupyter-widgets/controls",
          "model_module_version": "1.5.0",
          "model_name": "HTMLModel",
          "state": {
            "_dom_classes": [],
            "_model_module": "@jupyter-widgets/controls",
            "_model_module_version": "1.5.0",
            "_model_name": "HTMLModel",
            "_view_count": null,
            "_view_module": "@jupyter-widgets/controls",
            "_view_module_version": "1.5.0",
            "_view_name": "HTMLView",
            "description": "",
            "description_tooltip": null,
            "layout": "IPY_MODEL_53a4a006193441a98123f0f916c9bc3f",
            "placeholder": "​",
            "style": "IPY_MODEL_e09ae5b7390345c6a05fb96fddacdb36",
            "value": " 4.01k/? [00:00&lt;00:00, 163kB/s]"
          }
        },
        "0f9db5abc95543a6b89a9404792ca57c": {
          "model_module": "@jupyter-widgets/base",
          "model_module_version": "1.2.0",
          "model_name": "LayoutModel",
          "state": {
            "_model_module": "@jupyter-widgets/base",
            "_model_module_version": "1.2.0",
            "_model_name": "LayoutModel",
            "_view_count": null,
            "_view_module": "@jupyter-widgets/base",
            "_view_module_version": "1.2.0",
            "_view_name": "LayoutView",
            "align_content": null,
            "align_items": null,
            "align_self": null,
            "border": null,
            "bottom": null,
            "display": null,
            "flex": null,
            "flex_flow": null,
            "grid_area": null,
            "grid_auto_columns": null,
            "grid_auto_flow": null,
            "grid_auto_rows": null,
            "grid_column": null,
            "grid_gap": null,
            "grid_row": null,
            "grid_template_areas": null,
            "grid_template_columns": null,
            "grid_template_rows": null,
            "height": null,
            "justify_content": null,
            "justify_items": null,
            "left": null,
            "margin": null,
            "max_height": null,
            "max_width": null,
            "min_height": null,
            "min_width": null,
            "object_fit": null,
            "object_position": null,
            "order": null,
            "overflow": null,
            "overflow_x": null,
            "overflow_y": null,
            "padding": null,
            "right": null,
            "top": null,
            "visibility": null,
            "width": null
          }
        },
        "2321a158aa0d4108a719102e52abe66b": {
          "model_module": "@jupyter-widgets/controls",
          "model_module_version": "1.5.0",
          "model_name": "HBoxModel",
          "state": {
            "_dom_classes": [],
            "_model_module": "@jupyter-widgets/controls",
            "_model_module_version": "1.5.0",
            "_model_name": "HBoxModel",
            "_view_count": null,
            "_view_module": "@jupyter-widgets/controls",
            "_view_module_version": "1.5.0",
            "_view_name": "HBoxView",
            "box_style": "",
            "children": [
              "IPY_MODEL_910f7539935d44dfa0eace4e54316db6",
              "IPY_MODEL_b448720afccd4c36924505618a566759",
              "IPY_MODEL_064475c14e944850ad1c522077b07ce2"
            ],
            "layout": "IPY_MODEL_0f9db5abc95543a6b89a9404792ca57c"
          }
        },
        "2c8f240794d04593b93e9520c7f96e51": {
          "model_module": "@jupyter-widgets/base",
          "model_module_version": "1.2.0",
          "model_name": "LayoutModel",
          "state": {
            "_model_module": "@jupyter-widgets/base",
            "_model_module_version": "1.2.0",
            "_model_name": "LayoutModel",
            "_view_count": null,
            "_view_module": "@jupyter-widgets/base",
            "_view_module_version": "1.2.0",
            "_view_name": "LayoutView",
            "align_content": null,
            "align_items": null,
            "align_self": null,
            "border": null,
            "bottom": null,
            "display": null,
            "flex": null,
            "flex_flow": null,
            "grid_area": null,
            "grid_auto_columns": null,
            "grid_auto_flow": null,
            "grid_auto_rows": null,
            "grid_column": null,
            "grid_gap": null,
            "grid_row": null,
            "grid_template_areas": null,
            "grid_template_columns": null,
            "grid_template_rows": null,
            "height": null,
            "justify_content": null,
            "justify_items": null,
            "left": null,
            "margin": null,
            "max_height": null,
            "max_width": null,
            "min_height": null,
            "min_width": null,
            "object_fit": null,
            "object_position": null,
            "order": null,
            "overflow": null,
            "overflow_x": null,
            "overflow_y": null,
            "padding": null,
            "right": null,
            "top": null,
            "visibility": null,
            "width": "20px"
          }
        },
        "53a4a006193441a98123f0f916c9bc3f": {
          "model_module": "@jupyter-widgets/base",
          "model_module_version": "1.2.0",
          "model_name": "LayoutModel",
          "state": {
            "_model_module": "@jupyter-widgets/base",
            "_model_module_version": "1.2.0",
            "_model_name": "LayoutModel",
            "_view_count": null,
            "_view_module": "@jupyter-widgets/base",
            "_view_module_version": "1.2.0",
            "_view_name": "LayoutView",
            "align_content": null,
            "align_items": null,
            "align_self": null,
            "border": null,
            "bottom": null,
            "display": null,
            "flex": null,
            "flex_flow": null,
            "grid_area": null,
            "grid_auto_columns": null,
            "grid_auto_flow": null,
            "grid_auto_rows": null,
            "grid_column": null,
            "grid_gap": null,
            "grid_row": null,
            "grid_template_areas": null,
            "grid_template_columns": null,
            "grid_template_rows": null,
            "height": null,
            "justify_content": null,
            "justify_items": null,
            "left": null,
            "margin": null,
            "max_height": null,
            "max_width": null,
            "min_height": null,
            "min_width": null,
            "object_fit": null,
            "object_position": null,
            "order": null,
            "overflow": null,
            "overflow_x": null,
            "overflow_y": null,
            "padding": null,
            "right": null,
            "top": null,
            "visibility": null,
            "width": null
          }
        },
        "910f7539935d44dfa0eace4e54316db6": {
          "model_module": "@jupyter-widgets/controls",
          "model_module_version": "1.5.0",
          "model_name": "HTMLModel",
          "state": {
            "_dom_classes": [],
            "_model_module": "@jupyter-widgets/controls",
            "_model_module_version": "1.5.0",
            "_model_name": "HTMLModel",
            "_view_count": null,
            "_view_module": "@jupyter-widgets/controls",
            "_view_module_version": "1.5.0",
            "_view_name": "HTMLView",
            "description": "",
            "description_tooltip": null,
            "layout": "IPY_MODEL_fb66984131a649c5b666b925d32c5821",
            "placeholder": "​",
            "style": "IPY_MODEL_d7caa42474d9417998a52931525af9a1",
            "value": "README.md: "
          }
        },
        "b448720afccd4c36924505618a566759": {
          "model_module": "@jupyter-widgets/controls",
          "model_module_version": "1.5.0",
          "model_name": "FloatProgressModel",
          "state": {
            "_dom_classes": [],
            "_model_module": "@jupyter-widgets/controls",
            "_model_module_version": "1.5.0",
            "_model_name": "FloatProgressModel",
            "_view_count": null,
            "_view_module": "@jupyter-widgets/controls",
            "_view_module_version": "1.5.0",
            "_view_name": "ProgressView",
            "bar_style": "success",
            "description": "",
            "description_tooltip": null,
            "layout": "IPY_MODEL_2c8f240794d04593b93e9520c7f96e51",
            "max": 1,
            "min": 0,
            "orientation": "horizontal",
            "style": "IPY_MODEL_b9fdcc85a9144bac80273263451f2489",
            "value": 1
          }
        },
        "b9fdcc85a9144bac80273263451f2489": {
          "model_module": "@jupyter-widgets/controls",
          "model_module_version": "1.5.0",
          "model_name": "ProgressStyleModel",
          "state": {
            "_model_module": "@jupyter-widgets/controls",
            "_model_module_version": "1.5.0",
            "_model_name": "ProgressStyleModel",
            "_view_count": null,
            "_view_module": "@jupyter-widgets/base",
            "_view_module_version": "1.2.0",
            "_view_name": "StyleView",
            "bar_color": null,
            "description_width": ""
          }
        },
        "d7caa42474d9417998a52931525af9a1": {
          "model_module": "@jupyter-widgets/controls",
          "model_module_version": "1.5.0",
          "model_name": "DescriptionStyleModel",
          "state": {
            "_model_module": "@jupyter-widgets/controls",
            "_model_module_version": "1.5.0",
            "_model_name": "DescriptionStyleModel",
            "_view_count": null,
            "_view_module": "@jupyter-widgets/base",
            "_view_module_version": "1.2.0",
            "_view_name": "StyleView",
            "description_width": ""
          }
        },
        "e09ae5b7390345c6a05fb96fddacdb36": {
          "model_module": "@jupyter-widgets/controls",
          "model_module_version": "1.5.0",
          "model_name": "DescriptionStyleModel",
          "state": {
            "_model_module": "@jupyter-widgets/controls",
            "_model_module_version": "1.5.0",
            "_model_name": "DescriptionStyleModel",
            "_view_count": null,
            "_view_module": "@jupyter-widgets/base",
            "_view_module_version": "1.2.0",
            "_view_name": "StyleView",
            "description_width": ""
          }
        },
        "fb66984131a649c5b666b925d32c5821": {
          "model_module": "@jupyter-widgets/base",
          "model_module_version": "1.2.0",
          "model_name": "LayoutModel",
          "state": {
            "_model_module": "@jupyter-widgets/base",
            "_model_module_version": "1.2.0",
            "_model_name": "LayoutModel",
            "_view_count": null,
            "_view_module": "@jupyter-widgets/base",
            "_view_module_version": "1.2.0",
            "_view_name": "LayoutView",
            "align_content": null,
            "align_items": null,
            "align_self": null,
            "border": null,
            "bottom": null,
            "display": null,
            "flex": null,
            "flex_flow": null,
            "grid_area": null,
            "grid_auto_columns": null,
            "grid_auto_flow": null,
            "grid_auto_rows": null,
            "grid_column": null,
            "grid_gap": null,
            "grid_row": null,
            "grid_template_areas": null,
            "grid_template_columns": null,
            "grid_template_rows": null,
            "height": null,
            "justify_content": null,
            "justify_items": null,
            "left": null,
            "margin": null,
            "max_height": null,
            "max_width": null,
            "min_height": null,
            "min_width": null,
            "object_fit": null,
            "object_position": null,
            "order": null,
            "overflow": null,
            "overflow_x": null,
            "overflow_y": null,
            "padding": null,
            "right": null,
            "top": null,
            "visibility": null,
            "width": null
          }
        }
      }
    }
  },
  "nbformat": 4,
  "nbformat_minor": 0
}
