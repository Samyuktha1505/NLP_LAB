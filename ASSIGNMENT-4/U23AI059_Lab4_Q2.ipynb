{
  "cells": [
    {
      "cell_type": "code",
      "execution_count": 1,
      "metadata": {
        "id": "MRJQQ8qxJqfO"
      },
      "outputs": [],
      "source": [
        "from collections import Counter\n",
        "from nltk.util import ngrams"
      ]
    },
    {
      "cell_type": "code",
      "execution_count": 2,
      "metadata": {
        "colab": {
          "base_uri": "https://localhost:8080/"
        },
        "id": "Rut2JSFiKW6_",
        "outputId": "ccfaed0c-3b5c-4b3a-ed82-c9b454903727"
      },
      "outputs": [
        {
          "name": "stdout",
          "output_type": "stream",
          "text": [
            "Add-One P('cat' | 'the'): 0.005941\n",
            "Add-One P('house' | 'the'): 0.000990\n"
          ]
        }
      ],
      "source": [
        "def calculated_add_one(bigram,bigram_counts,unigram_counts, V):\n",
        "  prefix = (bigram[0],)\n",
        "\n",
        "  numerator = bigram_counts.get(bigram, 0) + 1\n",
        "  denominator = unigram_counts.get(prefix, 0) + V\n",
        "\n",
        "  return numerator / denominator\n",
        "\n",
        "bigram_counts_demo = Counter({('the','cat'): 5, ('a','house'): 3})\n",
        "unigram_counts_demo = Counter({('the',): 10, ('a',): 8})\n",
        "V_demo = 1000\n",
        "\n",
        "known_prob = calculated_add_one(('the','cat'), bigram_counts_demo, unigram_counts_demo, V_demo)\n",
        "print(f\"Add-One P('cat' | 'the'): {known_prob:.6f}\")\n",
        "\n",
        "unknown_prob = calculated_add_one(('the','house'), bigram_counts_demo, unigram_counts_demo, V_demo)\n",
        "print(f\"Add-One P('house' | 'the'): {unknown_prob:.6f}\")"
      ]
    },
    {
      "cell_type": "code",
      "execution_count": 3,
      "metadata": {
        "colab": {
          "base_uri": "https://localhost:8080/"
        },
        "id": "ydq2WZc3L1Gc",
        "outputId": "effaedf5-3959-4bd7-a1e3-e70dd5a8566c"
      },
      "outputs": [
        {
          "name": "stdout",
          "output_type": "stream",
          "text": [
            "Add-One P('cat' | 'the'): 0.046364\n",
            "Add-One P('house' | 'the'): 0.000909\n"
          ]
        }
      ],
      "source": [
        "def calculated_add_k(bigram, bigram_counts, unigram_counts, V, k):\n",
        "  prefix = (bigram[0],)\n",
        "\n",
        "  numerator = bigram_counts.get(bigram, 0) + k\n",
        "  denominator = unigram_counts.get(prefix, 0) + (k * V)\n",
        "\n",
        "  return numerator / denominator\n",
        "\n",
        "k = 0.1\n",
        "\n",
        "known_prob = calculated_add_k(('the','cat'), bigram_counts_demo, unigram_counts_demo, V_demo,k)\n",
        "print(f\"Add-One P('cat' | 'the'): {known_prob:.6f}\")\n",
        "\n",
        "unknown_prob = calculated_add_k(('the','house'), bigram_counts_demo, unigram_counts_demo, V_demo,k)\n",
        "print(f\"Add-One P('house' | 'the'): {unknown_prob:.6f}\")"
      ]
    },
    {
      "cell_type": "code",
      "execution_count": 4,
      "metadata": {
        "colab": {
          "base_uri": "https://localhost:8080/"
        },
        "id": "ygH8n_oWM9eY",
        "outputId": "7e012585-d17e-41e0-b776-a97a7cb7f343"
      },
      "outputs": [
        {
          "name": "stdout",
          "output_type": "stream",
          "text": [
            "\n",
            "Add-V Score('cat' | 'the'): 0.001005\n",
            "Add-V Score('dog' | 'a'): 0.001000\n"
          ]
        }
      ],
      "source": [
        "def calculate_add_token_type(bigram, bigram_counts, unigram_counts, V):\n",
        "    prefix = (bigram[0],)\n",
        "\n",
        "    numerator = bigram_counts.get(bigram, 0) + V\n",
        "    denominator = unigram_counts.get(prefix, 0) + (V * V)\n",
        "\n",
        "    if denominator == 0:\n",
        "        return 0\n",
        "\n",
        "    return numerator / denominator\n",
        "\n",
        "known_prob = calculate_add_token_type(('the', 'cat'), bigram_counts_demo, unigram_counts_demo, V_demo)\n",
        "print(f\"\\nAdd-V Score('cat' | 'the'): {known_prob:.6f}\")\n",
        "\n",
        "unknown_prob = calculate_add_token_type(('a', 'dog'), bigram_counts_demo, unigram_counts_demo, V_demo)\n",
        "print(f\"Add-V Score('dog' | 'a'): {unknown_prob:.6f}\")"
      ]
    },
    {
      "cell_type": "code",
      "execution_count": null,
      "metadata": {
        "id": "9A6cQW4XNM0D"
      },
      "outputs": [],
      "source": []
    }
  ],
  "metadata": {
    "colab": {
      "provenance": []
    },
    "kernelspec": {
      "display_name": "Python 3",
      "name": "python3"
    },
    "language_info": {
      "codemirror_mode": {
        "name": "ipython",
        "version": 3
      },
      "file_extension": ".py",
      "mimetype": "text/x-python",
      "name": "python",
      "nbconvert_exporter": "python",
      "pygments_lexer": "ipython3",
      "version": "3.10.13"
    }
  },
  "nbformat": 4,
  "nbformat_minor": 0
}
